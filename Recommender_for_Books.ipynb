{
  "nbformat": 4,
  "nbformat_minor": 0,
  "metadata": {
    "colab": {
      "name": "Recommender for Books.ipynb",
      "provenance": [],
      "collapsed_sections": [],
      "include_colab_link": true
    },
    "kernelspec": {
      "name": "python3",
      "display_name": "Python 3"
    }
  },
  "cells": [
    {
      "cell_type": "markdown",
      "metadata": {
        "id": "view-in-github",
        "colab_type": "text"
      },
      "source": [
        "<a href=\"https://colab.research.google.com/github/Anas321/Recommender_Books/blob/main/Recommender_for_Books.ipynb\" target=\"_parent\"><img src=\"https://colab.research.google.com/assets/colab-badge.svg\" alt=\"Open In Colab\"/></a>"
      ]
    },
    {
      "cell_type": "markdown",
      "metadata": {
        "id": "wq228CQP7LbE"
      },
      "source": [
        "Recommendation System Classification"
      ]
    },
    {
      "cell_type": "markdown",
      "metadata": {
        "id": "binoob5J2xYi"
      },
      "source": [
        "![](https://www.researchgate.net/profile/Dr_K_Saravanan/publication/316164728/figure/fig1/AS:483990101598208@1492403640588/Recommendation-techniques.png)\n"
      ]
    },
    {
      "cell_type": "code",
      "metadata": {
        "id": "5NlizBZOUfsy",
        "colab": {
          "base_uri": "https://localhost:8080/",
          "height": 33
        },
        "outputId": "b89319d6-8f6e-4d06-eb3f-64da68e19ed7"
      },
      "source": [
        "from google.colab import drive, files\n",
        "drive.mount('/content/drive')"
      ],
      "execution_count": null,
      "outputs": [
        {
          "output_type": "stream",
          "text": [
            "Drive already mounted at /content/drive; to attempt to forcibly remount, call drive.mount(\"/content/drive\", force_remount=True).\n"
          ],
          "name": "stdout"
        }
      ]
    },
    {
      "cell_type": "code",
      "metadata": {
        "id": "zu8oQAFEUfyY"
      },
      "source": [
        "import pandas as pd \n",
        "import numpy as np "
      ],
      "execution_count": null,
      "outputs": []
    },
    {
      "cell_type": "code",
      "metadata": {
        "id": "6HPgzEPOmd3Q"
      },
      "source": [
        "#cd drive/My\\ Drive/Recommender_Books/"
      ],
      "execution_count": null,
      "outputs": []
    },
    {
      "cell_type": "code",
      "metadata": {
        "id": "UAW8h14ZL6nd"
      },
      "source": [
        "#cd /content/drive/My Drive/Colab Notebooks/books dataset"
      ],
      "execution_count": null,
      "outputs": []
    },
    {
      "cell_type": "code",
      "metadata": {
        "id": "Yv4ID9W0nWJM"
      },
      "source": [
        "#files.upload()"
      ],
      "execution_count": null,
      "outputs": []
    },
    {
      "cell_type": "code",
      "metadata": {
        "id": "xMei-fqoVEAL",
        "colab": {
          "base_uri": "https://localhost:8080/",
          "height": 197
        },
        "outputId": "9a5681e3-0b8c-4873-ab7e-71007e5b90b3"
      },
      "source": [
        "#book_tags= pd.read_csv('book_tags.csv')\n",
        "book_tags= pd.read_csv('/content/drive/My Drive/Colab Notebooks/books dataset/book_tags.csv')\n",
        "book_tags.head()"
      ],
      "execution_count": null,
      "outputs": [
        {
          "output_type": "execute_result",
          "data": {
            "text/html": [
              "<div>\n",
              "<style scoped>\n",
              "    .dataframe tbody tr th:only-of-type {\n",
              "        vertical-align: middle;\n",
              "    }\n",
              "\n",
              "    .dataframe tbody tr th {\n",
              "        vertical-align: top;\n",
              "    }\n",
              "\n",
              "    .dataframe thead th {\n",
              "        text-align: right;\n",
              "    }\n",
              "</style>\n",
              "<table border=\"1\" class=\"dataframe\">\n",
              "  <thead>\n",
              "    <tr style=\"text-align: right;\">\n",
              "      <th></th>\n",
              "      <th>goodreads_book_id</th>\n",
              "      <th>tag_id</th>\n",
              "      <th>count</th>\n",
              "    </tr>\n",
              "  </thead>\n",
              "  <tbody>\n",
              "    <tr>\n",
              "      <th>0</th>\n",
              "      <td>1</td>\n",
              "      <td>30574</td>\n",
              "      <td>167697</td>\n",
              "    </tr>\n",
              "    <tr>\n",
              "      <th>1</th>\n",
              "      <td>1</td>\n",
              "      <td>11305</td>\n",
              "      <td>37174</td>\n",
              "    </tr>\n",
              "    <tr>\n",
              "      <th>2</th>\n",
              "      <td>1</td>\n",
              "      <td>11557</td>\n",
              "      <td>34173</td>\n",
              "    </tr>\n",
              "    <tr>\n",
              "      <th>3</th>\n",
              "      <td>1</td>\n",
              "      <td>8717</td>\n",
              "      <td>12986</td>\n",
              "    </tr>\n",
              "    <tr>\n",
              "      <th>4</th>\n",
              "      <td>1</td>\n",
              "      <td>33114</td>\n",
              "      <td>12716</td>\n",
              "    </tr>\n",
              "  </tbody>\n",
              "</table>\n",
              "</div>"
            ],
            "text/plain": [
              "   goodreads_book_id  tag_id   count\n",
              "0                  1   30574  167697\n",
              "1                  1   11305   37174\n",
              "2                  1   11557   34173\n",
              "3                  1    8717   12986\n",
              "4                  1   33114   12716"
            ]
          },
          "metadata": {
            "tags": []
          },
          "execution_count": 16
        }
      ]
    },
    {
      "cell_type": "code",
      "metadata": {
        "id": "JvYBa4CjVJV3",
        "colab": {
          "base_uri": "https://localhost:8080/",
          "height": 804
        },
        "outputId": "f60522be-233a-4844-90b2-de06e94ab22b"
      },
      "source": [
        "#books= pd.read_csv('books.csv')\n",
        "books= pd.read_csv('/content/drive/My Drive/Colab Notebooks/books dataset/books.csv')\n",
        "books.head().T"
      ],
      "execution_count": null,
      "outputs": [
        {
          "output_type": "execute_result",
          "data": {
            "text/html": [
              "<div>\n",
              "<style scoped>\n",
              "    .dataframe tbody tr th:only-of-type {\n",
              "        vertical-align: middle;\n",
              "    }\n",
              "\n",
              "    .dataframe tbody tr th {\n",
              "        vertical-align: top;\n",
              "    }\n",
              "\n",
              "    .dataframe thead th {\n",
              "        text-align: right;\n",
              "    }\n",
              "</style>\n",
              "<table border=\"1\" class=\"dataframe\">\n",
              "  <thead>\n",
              "    <tr style=\"text-align: right;\">\n",
              "      <th></th>\n",
              "      <th>0</th>\n",
              "      <th>1</th>\n",
              "      <th>2</th>\n",
              "      <th>3</th>\n",
              "      <th>4</th>\n",
              "    </tr>\n",
              "  </thead>\n",
              "  <tbody>\n",
              "    <tr>\n",
              "      <th>id</th>\n",
              "      <td>1</td>\n",
              "      <td>2</td>\n",
              "      <td>3</td>\n",
              "      <td>4</td>\n",
              "      <td>5</td>\n",
              "    </tr>\n",
              "    <tr>\n",
              "      <th>book_id</th>\n",
              "      <td>2767052</td>\n",
              "      <td>3</td>\n",
              "      <td>41865</td>\n",
              "      <td>2657</td>\n",
              "      <td>4671</td>\n",
              "    </tr>\n",
              "    <tr>\n",
              "      <th>best_book_id</th>\n",
              "      <td>2767052</td>\n",
              "      <td>3</td>\n",
              "      <td>41865</td>\n",
              "      <td>2657</td>\n",
              "      <td>4671</td>\n",
              "    </tr>\n",
              "    <tr>\n",
              "      <th>work_id</th>\n",
              "      <td>2792775</td>\n",
              "      <td>4640799</td>\n",
              "      <td>3212258</td>\n",
              "      <td>3275794</td>\n",
              "      <td>245494</td>\n",
              "    </tr>\n",
              "    <tr>\n",
              "      <th>books_count</th>\n",
              "      <td>272</td>\n",
              "      <td>491</td>\n",
              "      <td>226</td>\n",
              "      <td>487</td>\n",
              "      <td>1356</td>\n",
              "    </tr>\n",
              "    <tr>\n",
              "      <th>isbn</th>\n",
              "      <td>439023483</td>\n",
              "      <td>439554934</td>\n",
              "      <td>316015849</td>\n",
              "      <td>61120081</td>\n",
              "      <td>743273567</td>\n",
              "    </tr>\n",
              "    <tr>\n",
              "      <th>isbn13</th>\n",
              "      <td>9.78044e+12</td>\n",
              "      <td>9.78044e+12</td>\n",
              "      <td>9.78032e+12</td>\n",
              "      <td>9.78006e+12</td>\n",
              "      <td>9.78074e+12</td>\n",
              "    </tr>\n",
              "    <tr>\n",
              "      <th>authors</th>\n",
              "      <td>Suzanne Collins</td>\n",
              "      <td>J.K. Rowling, Mary GrandPré</td>\n",
              "      <td>Stephenie Meyer</td>\n",
              "      <td>Harper Lee</td>\n",
              "      <td>F. Scott Fitzgerald</td>\n",
              "    </tr>\n",
              "    <tr>\n",
              "      <th>original_publication_year</th>\n",
              "      <td>2008</td>\n",
              "      <td>1997</td>\n",
              "      <td>2005</td>\n",
              "      <td>1960</td>\n",
              "      <td>1925</td>\n",
              "    </tr>\n",
              "    <tr>\n",
              "      <th>original_title</th>\n",
              "      <td>The Hunger Games</td>\n",
              "      <td>Harry Potter and the Philosopher's Stone</td>\n",
              "      <td>Twilight</td>\n",
              "      <td>To Kill a Mockingbird</td>\n",
              "      <td>The Great Gatsby</td>\n",
              "    </tr>\n",
              "    <tr>\n",
              "      <th>title</th>\n",
              "      <td>The Hunger Games (The Hunger Games, #1)</td>\n",
              "      <td>Harry Potter and the Sorcerer's Stone (Harry P...</td>\n",
              "      <td>Twilight (Twilight, #1)</td>\n",
              "      <td>To Kill a Mockingbird</td>\n",
              "      <td>The Great Gatsby</td>\n",
              "    </tr>\n",
              "    <tr>\n",
              "      <th>language_code</th>\n",
              "      <td>eng</td>\n",
              "      <td>eng</td>\n",
              "      <td>en-US</td>\n",
              "      <td>eng</td>\n",
              "      <td>eng</td>\n",
              "    </tr>\n",
              "    <tr>\n",
              "      <th>average_rating</th>\n",
              "      <td>4.34</td>\n",
              "      <td>4.44</td>\n",
              "      <td>3.57</td>\n",
              "      <td>4.25</td>\n",
              "      <td>3.89</td>\n",
              "    </tr>\n",
              "    <tr>\n",
              "      <th>ratings_count</th>\n",
              "      <td>4780653</td>\n",
              "      <td>4602479</td>\n",
              "      <td>3866839</td>\n",
              "      <td>3198671</td>\n",
              "      <td>2683664</td>\n",
              "    </tr>\n",
              "    <tr>\n",
              "      <th>work_ratings_count</th>\n",
              "      <td>4942365</td>\n",
              "      <td>4800065</td>\n",
              "      <td>3916824</td>\n",
              "      <td>3340896</td>\n",
              "      <td>2773745</td>\n",
              "    </tr>\n",
              "    <tr>\n",
              "      <th>work_text_reviews_count</th>\n",
              "      <td>155254</td>\n",
              "      <td>75867</td>\n",
              "      <td>95009</td>\n",
              "      <td>72586</td>\n",
              "      <td>51992</td>\n",
              "    </tr>\n",
              "    <tr>\n",
              "      <th>ratings_1</th>\n",
              "      <td>66715</td>\n",
              "      <td>75504</td>\n",
              "      <td>456191</td>\n",
              "      <td>60427</td>\n",
              "      <td>86236</td>\n",
              "    </tr>\n",
              "    <tr>\n",
              "      <th>ratings_2</th>\n",
              "      <td>127936</td>\n",
              "      <td>101676</td>\n",
              "      <td>436802</td>\n",
              "      <td>117415</td>\n",
              "      <td>197621</td>\n",
              "    </tr>\n",
              "    <tr>\n",
              "      <th>ratings_3</th>\n",
              "      <td>560092</td>\n",
              "      <td>455024</td>\n",
              "      <td>793319</td>\n",
              "      <td>446835</td>\n",
              "      <td>606158</td>\n",
              "    </tr>\n",
              "    <tr>\n",
              "      <th>ratings_4</th>\n",
              "      <td>1481305</td>\n",
              "      <td>1156318</td>\n",
              "      <td>875073</td>\n",
              "      <td>1001952</td>\n",
              "      <td>936012</td>\n",
              "    </tr>\n",
              "    <tr>\n",
              "      <th>ratings_5</th>\n",
              "      <td>2706317</td>\n",
              "      <td>3011543</td>\n",
              "      <td>1355439</td>\n",
              "      <td>1714267</td>\n",
              "      <td>947718</td>\n",
              "    </tr>\n",
              "    <tr>\n",
              "      <th>image_url</th>\n",
              "      <td>https://images.gr-assets.com/books/1447303603m...</td>\n",
              "      <td>https://images.gr-assets.com/books/1474154022m...</td>\n",
              "      <td>https://images.gr-assets.com/books/1361039443m...</td>\n",
              "      <td>https://images.gr-assets.com/books/1361975680m...</td>\n",
              "      <td>https://images.gr-assets.com/books/1490528560m...</td>\n",
              "    </tr>\n",
              "    <tr>\n",
              "      <th>small_image_url</th>\n",
              "      <td>https://images.gr-assets.com/books/1447303603s...</td>\n",
              "      <td>https://images.gr-assets.com/books/1474154022s...</td>\n",
              "      <td>https://images.gr-assets.com/books/1361039443s...</td>\n",
              "      <td>https://images.gr-assets.com/books/1361975680s...</td>\n",
              "      <td>https://images.gr-assets.com/books/1490528560s...</td>\n",
              "    </tr>\n",
              "  </tbody>\n",
              "</table>\n",
              "</div>"
            ],
            "text/plain": [
              "                                                                           0  ...                                                  4\n",
              "id                                                                         1  ...                                                  5\n",
              "book_id                                                              2767052  ...                                               4671\n",
              "best_book_id                                                         2767052  ...                                               4671\n",
              "work_id                                                              2792775  ...                                             245494\n",
              "books_count                                                              272  ...                                               1356\n",
              "isbn                                                               439023483  ...                                          743273567\n",
              "isbn13                                                           9.78044e+12  ...                                        9.78074e+12\n",
              "authors                                                      Suzanne Collins  ...                                F. Scott Fitzgerald\n",
              "original_publication_year                                               2008  ...                                               1925\n",
              "original_title                                              The Hunger Games  ...                                   The Great Gatsby\n",
              "title                                The Hunger Games (The Hunger Games, #1)  ...                                   The Great Gatsby\n",
              "language_code                                                            eng  ...                                                eng\n",
              "average_rating                                                          4.34  ...                                               3.89\n",
              "ratings_count                                                        4780653  ...                                            2683664\n",
              "work_ratings_count                                                   4942365  ...                                            2773745\n",
              "work_text_reviews_count                                               155254  ...                                              51992\n",
              "ratings_1                                                              66715  ...                                              86236\n",
              "ratings_2                                                             127936  ...                                             197621\n",
              "ratings_3                                                             560092  ...                                             606158\n",
              "ratings_4                                                            1481305  ...                                             936012\n",
              "ratings_5                                                            2706317  ...                                             947718\n",
              "image_url                  https://images.gr-assets.com/books/1447303603m...  ...  https://images.gr-assets.com/books/1490528560m...\n",
              "small_image_url            https://images.gr-assets.com/books/1447303603s...  ...  https://images.gr-assets.com/books/1490528560s...\n",
              "\n",
              "[23 rows x 5 columns]"
            ]
          },
          "metadata": {
            "tags": []
          },
          "execution_count": 17
        }
      ]
    },
    {
      "cell_type": "code",
      "metadata": {
        "id": "Zj9v-kJYZDaq",
        "colab": {
          "base_uri": "https://localhost:8080/",
          "height": 133
        },
        "outputId": "19089b8c-5277-43fc-b86a-3b491f3d815e"
      },
      "source": [
        "books.columns"
      ],
      "execution_count": null,
      "outputs": [
        {
          "output_type": "execute_result",
          "data": {
            "text/plain": [
              "Index(['id', 'book_id', 'best_book_id', 'work_id', 'books_count', 'isbn',\n",
              "       'isbn13', 'authors', 'original_publication_year', 'original_title',\n",
              "       'title', 'language_code', 'average_rating', 'ratings_count',\n",
              "       'work_ratings_count', 'work_text_reviews_count', 'ratings_1',\n",
              "       'ratings_2', 'ratings_3', 'ratings_4', 'ratings_5', 'image_url',\n",
              "       'small_image_url'],\n",
              "      dtype='object')"
            ]
          },
          "metadata": {
            "tags": []
          },
          "execution_count": 18
        }
      ]
    },
    {
      "cell_type": "code",
      "metadata": {
        "id": "p_oQ59xrVW2v",
        "colab": {
          "base_uri": "https://localhost:8080/",
          "height": 197
        },
        "outputId": "730504be-772d-4fd6-e47e-8dc6ed494df6"
      },
      "source": [
        "#ratings= pd.read_csv('ratings.csv')\n",
        "ratings= pd.read_csv('/content/drive/My Drive/Colab Notebooks/books dataset/ratings.csv')\n",
        "ratings.head()"
      ],
      "execution_count": null,
      "outputs": [
        {
          "output_type": "execute_result",
          "data": {
            "text/html": [
              "<div>\n",
              "<style scoped>\n",
              "    .dataframe tbody tr th:only-of-type {\n",
              "        vertical-align: middle;\n",
              "    }\n",
              "\n",
              "    .dataframe tbody tr th {\n",
              "        vertical-align: top;\n",
              "    }\n",
              "\n",
              "    .dataframe thead th {\n",
              "        text-align: right;\n",
              "    }\n",
              "</style>\n",
              "<table border=\"1\" class=\"dataframe\">\n",
              "  <thead>\n",
              "    <tr style=\"text-align: right;\">\n",
              "      <th></th>\n",
              "      <th>book_id</th>\n",
              "      <th>user_id</th>\n",
              "      <th>rating</th>\n",
              "    </tr>\n",
              "  </thead>\n",
              "  <tbody>\n",
              "    <tr>\n",
              "      <th>0</th>\n",
              "      <td>1</td>\n",
              "      <td>314</td>\n",
              "      <td>5</td>\n",
              "    </tr>\n",
              "    <tr>\n",
              "      <th>1</th>\n",
              "      <td>1</td>\n",
              "      <td>439</td>\n",
              "      <td>3</td>\n",
              "    </tr>\n",
              "    <tr>\n",
              "      <th>2</th>\n",
              "      <td>1</td>\n",
              "      <td>588</td>\n",
              "      <td>5</td>\n",
              "    </tr>\n",
              "    <tr>\n",
              "      <th>3</th>\n",
              "      <td>1</td>\n",
              "      <td>1169</td>\n",
              "      <td>4</td>\n",
              "    </tr>\n",
              "    <tr>\n",
              "      <th>4</th>\n",
              "      <td>1</td>\n",
              "      <td>1185</td>\n",
              "      <td>4</td>\n",
              "    </tr>\n",
              "  </tbody>\n",
              "</table>\n",
              "</div>"
            ],
            "text/plain": [
              "   book_id  user_id  rating\n",
              "0        1      314       5\n",
              "1        1      439       3\n",
              "2        1      588       5\n",
              "3        1     1169       4\n",
              "4        1     1185       4"
            ]
          },
          "metadata": {
            "tags": []
          },
          "execution_count": 19
        }
      ]
    },
    {
      "cell_type": "code",
      "metadata": {
        "id": "bS_SDzbvW2jZ",
        "colab": {
          "base_uri": "https://localhost:8080/",
          "height": 227
        },
        "outputId": "f9661bc0-5227-4817-8f11-a2e3e5d4a045"
      },
      "source": [
        "ratings[ratings['user_id']==100]"
      ],
      "execution_count": null,
      "outputs": [
        {
          "output_type": "execute_result",
          "data": {
            "text/html": [
              "<div>\n",
              "<style scoped>\n",
              "    .dataframe tbody tr th:only-of-type {\n",
              "        vertical-align: middle;\n",
              "    }\n",
              "\n",
              "    .dataframe tbody tr th {\n",
              "        vertical-align: top;\n",
              "    }\n",
              "\n",
              "    .dataframe thead th {\n",
              "        text-align: right;\n",
              "    }\n",
              "</style>\n",
              "<table border=\"1\" class=\"dataframe\">\n",
              "  <thead>\n",
              "    <tr style=\"text-align: right;\">\n",
              "      <th></th>\n",
              "      <th>book_id</th>\n",
              "      <th>user_id</th>\n",
              "      <th>rating</th>\n",
              "    </tr>\n",
              "  </thead>\n",
              "  <tbody>\n",
              "    <tr>\n",
              "      <th>570830</th>\n",
              "      <td>5730</td>\n",
              "      <td>100</td>\n",
              "      <td>4</td>\n",
              "    </tr>\n",
              "    <tr>\n",
              "      <th>570831</th>\n",
              "      <td>5730</td>\n",
              "      <td>100</td>\n",
              "      <td>4</td>\n",
              "    </tr>\n",
              "    <tr>\n",
              "      <th>613370</th>\n",
              "      <td>6160</td>\n",
              "      <td>100</td>\n",
              "      <td>4</td>\n",
              "    </tr>\n",
              "    <tr>\n",
              "      <th>673673</th>\n",
              "      <td>6772</td>\n",
              "      <td>100</td>\n",
              "      <td>5</td>\n",
              "    </tr>\n",
              "    <tr>\n",
              "      <th>883664</th>\n",
              "      <td>8946</td>\n",
              "      <td>100</td>\n",
              "      <td>5</td>\n",
              "    </tr>\n",
              "    <tr>\n",
              "      <th>931741</th>\n",
              "      <td>9460</td>\n",
              "      <td>100</td>\n",
              "      <td>4</td>\n",
              "    </tr>\n",
              "  </tbody>\n",
              "</table>\n",
              "</div>"
            ],
            "text/plain": [
              "        book_id  user_id  rating\n",
              "570830     5730      100       4\n",
              "570831     5730      100       4\n",
              "613370     6160      100       4\n",
              "673673     6772      100       5\n",
              "883664     8946      100       5\n",
              "931741     9460      100       4"
            ]
          },
          "metadata": {
            "tags": []
          },
          "execution_count": 20
        }
      ]
    },
    {
      "cell_type": "code",
      "metadata": {
        "id": "wF9O59hFXGuZ",
        "colab": {
          "base_uri": "https://localhost:8080/",
          "height": 33
        },
        "outputId": "b3b77af6-b368-485d-8f0b-45c4d4dada16"
      },
      "source": [
        "ratings.shape"
      ],
      "execution_count": null,
      "outputs": [
        {
          "output_type": "execute_result",
          "data": {
            "text/plain": [
              "(981756, 3)"
            ]
          },
          "metadata": {
            "tags": []
          },
          "execution_count": 21
        }
      ]
    },
    {
      "cell_type": "code",
      "metadata": {
        "id": "l7ffWJecVmU3",
        "colab": {
          "base_uri": "https://localhost:8080/",
          "height": 197
        },
        "outputId": "67334fdc-7e6f-4913-c359-5817902f4401"
      },
      "source": [
        "########## not useful#########\n",
        "#user_book= pd.read_csv('to_read.csv')\n",
        "user_book= pd.read_csv('/content/drive/My Drive/Colab Notebooks/books dataset/to_read.csv')\n",
        "user_book.head()"
      ],
      "execution_count": null,
      "outputs": [
        {
          "output_type": "execute_result",
          "data": {
            "text/html": [
              "<div>\n",
              "<style scoped>\n",
              "    .dataframe tbody tr th:only-of-type {\n",
              "        vertical-align: middle;\n",
              "    }\n",
              "\n",
              "    .dataframe tbody tr th {\n",
              "        vertical-align: top;\n",
              "    }\n",
              "\n",
              "    .dataframe thead th {\n",
              "        text-align: right;\n",
              "    }\n",
              "</style>\n",
              "<table border=\"1\" class=\"dataframe\">\n",
              "  <thead>\n",
              "    <tr style=\"text-align: right;\">\n",
              "      <th></th>\n",
              "      <th>user_id</th>\n",
              "      <th>book_id</th>\n",
              "    </tr>\n",
              "  </thead>\n",
              "  <tbody>\n",
              "    <tr>\n",
              "      <th>0</th>\n",
              "      <td>1</td>\n",
              "      <td>112</td>\n",
              "    </tr>\n",
              "    <tr>\n",
              "      <th>1</th>\n",
              "      <td>1</td>\n",
              "      <td>235</td>\n",
              "    </tr>\n",
              "    <tr>\n",
              "      <th>2</th>\n",
              "      <td>1</td>\n",
              "      <td>533</td>\n",
              "    </tr>\n",
              "    <tr>\n",
              "      <th>3</th>\n",
              "      <td>1</td>\n",
              "      <td>1198</td>\n",
              "    </tr>\n",
              "    <tr>\n",
              "      <th>4</th>\n",
              "      <td>1</td>\n",
              "      <td>1874</td>\n",
              "    </tr>\n",
              "  </tbody>\n",
              "</table>\n",
              "</div>"
            ],
            "text/plain": [
              "   user_id  book_id\n",
              "0        1      112\n",
              "1        1      235\n",
              "2        1      533\n",
              "3        1     1198\n",
              "4        1     1874"
            ]
          },
          "metadata": {
            "tags": []
          },
          "execution_count": 22
        }
      ]
    },
    {
      "cell_type": "code",
      "metadata": {
        "id": "hju0gUODWESn",
        "colab": {
          "base_uri": "https://localhost:8080/",
          "height": 197
        },
        "outputId": "51e5ffe6-8ba7-468d-b5a5-2ffcbe3a6af2"
      },
      "source": [
        "########## not useful#########\n",
        "#tagsdf= pd.read_csv('datasets_1938_3914_tags.csv')\n",
        "tagsdf= pd.read_csv('/content/drive/My Drive/Colab Notebooks/books dataset/datasets_1938_3914_tags.csv')\n",
        "tagsdf.head()"
      ],
      "execution_count": null,
      "outputs": [
        {
          "output_type": "execute_result",
          "data": {
            "text/html": [
              "<div>\n",
              "<style scoped>\n",
              "    .dataframe tbody tr th:only-of-type {\n",
              "        vertical-align: middle;\n",
              "    }\n",
              "\n",
              "    .dataframe tbody tr th {\n",
              "        vertical-align: top;\n",
              "    }\n",
              "\n",
              "    .dataframe thead th {\n",
              "        text-align: right;\n",
              "    }\n",
              "</style>\n",
              "<table border=\"1\" class=\"dataframe\">\n",
              "  <thead>\n",
              "    <tr style=\"text-align: right;\">\n",
              "      <th></th>\n",
              "      <th>tag_id</th>\n",
              "      <th>tag_name</th>\n",
              "    </tr>\n",
              "  </thead>\n",
              "  <tbody>\n",
              "    <tr>\n",
              "      <th>0</th>\n",
              "      <td>0</td>\n",
              "      <td>-</td>\n",
              "    </tr>\n",
              "    <tr>\n",
              "      <th>1</th>\n",
              "      <td>1</td>\n",
              "      <td>--1-</td>\n",
              "    </tr>\n",
              "    <tr>\n",
              "      <th>2</th>\n",
              "      <td>2</td>\n",
              "      <td>--10-</td>\n",
              "    </tr>\n",
              "    <tr>\n",
              "      <th>3</th>\n",
              "      <td>3</td>\n",
              "      <td>--12-</td>\n",
              "    </tr>\n",
              "    <tr>\n",
              "      <th>4</th>\n",
              "      <td>4</td>\n",
              "      <td>--122-</td>\n",
              "    </tr>\n",
              "  </tbody>\n",
              "</table>\n",
              "</div>"
            ],
            "text/plain": [
              "   tag_id tag_name\n",
              "0       0        -\n",
              "1       1     --1-\n",
              "2       2    --10-\n",
              "3       3    --12-\n",
              "4       4   --122-"
            ]
          },
          "metadata": {
            "tags": []
          },
          "execution_count": 23
        }
      ]
    },
    {
      "cell_type": "code",
      "metadata": {
        "id": "iAuTSRWeYhyJ"
      },
      "source": [
        "df = books[['id', 'book_id', 'best_book_id', 'authors', 'title', 'language_code', 'average_rating', 'ratings_count',\n",
        "       'work_ratings_count', 'work_text_reviews_count', 'ratings_1',\n",
        "       'ratings_2', 'ratings_3', 'ratings_4', 'ratings_5']]\n",
        "# prendere valori unici di best_book_id e chiamarlo book_id, ma occhio ai ratings\n",
        "#books count è il numero delle edizioni"
      ],
      "execution_count": null,
      "outputs": []
    },
    {
      "cell_type": "code",
      "metadata": {
        "id": "DgBiV--sZViQ",
        "colab": {
          "base_uri": "https://localhost:8080/",
          "height": 497
        },
        "outputId": "5ec84904-8167-4661-e7f7-0fbf34d64858"
      },
      "source": [
        "df.head().T"
      ],
      "execution_count": null,
      "outputs": [
        {
          "output_type": "execute_result",
          "data": {
            "text/html": [
              "<div>\n",
              "<style scoped>\n",
              "    .dataframe tbody tr th:only-of-type {\n",
              "        vertical-align: middle;\n",
              "    }\n",
              "\n",
              "    .dataframe tbody tr th {\n",
              "        vertical-align: top;\n",
              "    }\n",
              "\n",
              "    .dataframe thead th {\n",
              "        text-align: right;\n",
              "    }\n",
              "</style>\n",
              "<table border=\"1\" class=\"dataframe\">\n",
              "  <thead>\n",
              "    <tr style=\"text-align: right;\">\n",
              "      <th></th>\n",
              "      <th>0</th>\n",
              "      <th>1</th>\n",
              "      <th>2</th>\n",
              "      <th>3</th>\n",
              "      <th>4</th>\n",
              "    </tr>\n",
              "  </thead>\n",
              "  <tbody>\n",
              "    <tr>\n",
              "      <th>id</th>\n",
              "      <td>1</td>\n",
              "      <td>2</td>\n",
              "      <td>3</td>\n",
              "      <td>4</td>\n",
              "      <td>5</td>\n",
              "    </tr>\n",
              "    <tr>\n",
              "      <th>book_id</th>\n",
              "      <td>2767052</td>\n",
              "      <td>3</td>\n",
              "      <td>41865</td>\n",
              "      <td>2657</td>\n",
              "      <td>4671</td>\n",
              "    </tr>\n",
              "    <tr>\n",
              "      <th>best_book_id</th>\n",
              "      <td>2767052</td>\n",
              "      <td>3</td>\n",
              "      <td>41865</td>\n",
              "      <td>2657</td>\n",
              "      <td>4671</td>\n",
              "    </tr>\n",
              "    <tr>\n",
              "      <th>authors</th>\n",
              "      <td>Suzanne Collins</td>\n",
              "      <td>J.K. Rowling, Mary GrandPré</td>\n",
              "      <td>Stephenie Meyer</td>\n",
              "      <td>Harper Lee</td>\n",
              "      <td>F. Scott Fitzgerald</td>\n",
              "    </tr>\n",
              "    <tr>\n",
              "      <th>title</th>\n",
              "      <td>The Hunger Games (The Hunger Games, #1)</td>\n",
              "      <td>Harry Potter and the Sorcerer's Stone (Harry P...</td>\n",
              "      <td>Twilight (Twilight, #1)</td>\n",
              "      <td>To Kill a Mockingbird</td>\n",
              "      <td>The Great Gatsby</td>\n",
              "    </tr>\n",
              "    <tr>\n",
              "      <th>language_code</th>\n",
              "      <td>eng</td>\n",
              "      <td>eng</td>\n",
              "      <td>en-US</td>\n",
              "      <td>eng</td>\n",
              "      <td>eng</td>\n",
              "    </tr>\n",
              "    <tr>\n",
              "      <th>average_rating</th>\n",
              "      <td>4.34</td>\n",
              "      <td>4.44</td>\n",
              "      <td>3.57</td>\n",
              "      <td>4.25</td>\n",
              "      <td>3.89</td>\n",
              "    </tr>\n",
              "    <tr>\n",
              "      <th>ratings_count</th>\n",
              "      <td>4780653</td>\n",
              "      <td>4602479</td>\n",
              "      <td>3866839</td>\n",
              "      <td>3198671</td>\n",
              "      <td>2683664</td>\n",
              "    </tr>\n",
              "    <tr>\n",
              "      <th>work_ratings_count</th>\n",
              "      <td>4942365</td>\n",
              "      <td>4800065</td>\n",
              "      <td>3916824</td>\n",
              "      <td>3340896</td>\n",
              "      <td>2773745</td>\n",
              "    </tr>\n",
              "    <tr>\n",
              "      <th>work_text_reviews_count</th>\n",
              "      <td>155254</td>\n",
              "      <td>75867</td>\n",
              "      <td>95009</td>\n",
              "      <td>72586</td>\n",
              "      <td>51992</td>\n",
              "    </tr>\n",
              "    <tr>\n",
              "      <th>ratings_1</th>\n",
              "      <td>66715</td>\n",
              "      <td>75504</td>\n",
              "      <td>456191</td>\n",
              "      <td>60427</td>\n",
              "      <td>86236</td>\n",
              "    </tr>\n",
              "    <tr>\n",
              "      <th>ratings_2</th>\n",
              "      <td>127936</td>\n",
              "      <td>101676</td>\n",
              "      <td>436802</td>\n",
              "      <td>117415</td>\n",
              "      <td>197621</td>\n",
              "    </tr>\n",
              "    <tr>\n",
              "      <th>ratings_3</th>\n",
              "      <td>560092</td>\n",
              "      <td>455024</td>\n",
              "      <td>793319</td>\n",
              "      <td>446835</td>\n",
              "      <td>606158</td>\n",
              "    </tr>\n",
              "    <tr>\n",
              "      <th>ratings_4</th>\n",
              "      <td>1481305</td>\n",
              "      <td>1156318</td>\n",
              "      <td>875073</td>\n",
              "      <td>1001952</td>\n",
              "      <td>936012</td>\n",
              "    </tr>\n",
              "    <tr>\n",
              "      <th>ratings_5</th>\n",
              "      <td>2706317</td>\n",
              "      <td>3011543</td>\n",
              "      <td>1355439</td>\n",
              "      <td>1714267</td>\n",
              "      <td>947718</td>\n",
              "    </tr>\n",
              "  </tbody>\n",
              "</table>\n",
              "</div>"
            ],
            "text/plain": [
              "                                                               0  ...                    4\n",
              "id                                                             1  ...                    5\n",
              "book_id                                                  2767052  ...                 4671\n",
              "best_book_id                                             2767052  ...                 4671\n",
              "authors                                          Suzanne Collins  ...  F. Scott Fitzgerald\n",
              "title                    The Hunger Games (The Hunger Games, #1)  ...     The Great Gatsby\n",
              "language_code                                                eng  ...                  eng\n",
              "average_rating                                              4.34  ...                 3.89\n",
              "ratings_count                                            4780653  ...              2683664\n",
              "work_ratings_count                                       4942365  ...              2773745\n",
              "work_text_reviews_count                                   155254  ...                51992\n",
              "ratings_1                                                  66715  ...                86236\n",
              "ratings_2                                                 127936  ...               197621\n",
              "ratings_3                                                 560092  ...               606158\n",
              "ratings_4                                                1481305  ...               936012\n",
              "ratings_5                                                2706317  ...               947718\n",
              "\n",
              "[15 rows x 5 columns]"
            ]
          },
          "metadata": {
            "tags": []
          },
          "execution_count": 25
        }
      ]
    },
    {
      "cell_type": "code",
      "metadata": {
        "id": "t_56mnW-l3Te",
        "colab": {
          "base_uri": "https://localhost:8080/",
          "height": 33
        },
        "outputId": "23503809-47ae-47e7-cb6f-4d0b2350e1cb"
      },
      "source": [
        "min(df['ratings_count'])"
      ],
      "execution_count": null,
      "outputs": [
        {
          "output_type": "execute_result",
          "data": {
            "text/plain": [
              "2716"
            ]
          },
          "metadata": {
            "tags": []
          },
          "execution_count": 26
        }
      ]
    },
    {
      "cell_type": "code",
      "metadata": {
        "id": "9GM7aYJ7lnhQ",
        "colab": {
          "base_uri": "https://localhost:8080/",
          "height": 33
        },
        "outputId": "011cdaa1-93b7-4e53-fa40-fd647d7dbe3d"
      },
      "source": [
        "C = df['average_rating'].mean()\n",
        "print('average:', C)\n",
        "#m= df['ratings_count'].quantile(0.9)\n",
        "#print('90 quantile of counts: ', m)"
      ],
      "execution_count": null,
      "outputs": [
        {
          "output_type": "stream",
          "text": [
            "average: 4.002191000000001\n"
          ],
          "name": "stdout"
        }
      ]
    },
    {
      "cell_type": "code",
      "metadata": {
        "id": "9DG-8MuZoYKv",
        "colab": {
          "base_uri": "https://localhost:8080/",
          "height": 567
        },
        "outputId": "62c473bf-50b6-427f-8ec5-069fef46c452"
      },
      "source": [
        "df.sort_values('average_rating', ascending=False).head() # SORTED BY AVG RATING"
      ],
      "execution_count": null,
      "outputs": [
        {
          "output_type": "execute_result",
          "data": {
            "text/html": [
              "<div>\n",
              "<style scoped>\n",
              "    .dataframe tbody tr th:only-of-type {\n",
              "        vertical-align: middle;\n",
              "    }\n",
              "\n",
              "    .dataframe tbody tr th {\n",
              "        vertical-align: top;\n",
              "    }\n",
              "\n",
              "    .dataframe thead th {\n",
              "        text-align: right;\n",
              "    }\n",
              "</style>\n",
              "<table border=\"1\" class=\"dataframe\">\n",
              "  <thead>\n",
              "    <tr style=\"text-align: right;\">\n",
              "      <th></th>\n",
              "      <th>index</th>\n",
              "      <th>id</th>\n",
              "      <th>book_id</th>\n",
              "      <th>best_book_id</th>\n",
              "      <th>authors</th>\n",
              "      <th>title</th>\n",
              "      <th>language_code</th>\n",
              "      <th>average_rating</th>\n",
              "      <th>ratings_count</th>\n",
              "      <th>work_ratings_count</th>\n",
              "      <th>work_text_reviews_count</th>\n",
              "      <th>ratings_1</th>\n",
              "      <th>ratings_2</th>\n",
              "      <th>ratings_3</th>\n",
              "      <th>ratings_4</th>\n",
              "      <th>ratings_5</th>\n",
              "      <th>new_authors</th>\n",
              "      <th>new_title</th>\n",
              "      <th>soup</th>\n",
              "    </tr>\n",
              "  </thead>\n",
              "  <tbody>\n",
              "    <tr>\n",
              "      <th>3627</th>\n",
              "      <td>3627</td>\n",
              "      <td>3628</td>\n",
              "      <td>24812</td>\n",
              "      <td>24812</td>\n",
              "      <td>Bill Watterson</td>\n",
              "      <td>The Complete Calvin and Hobbes</td>\n",
              "      <td>eng</td>\n",
              "      <td>4.82</td>\n",
              "      <td>28900</td>\n",
              "      <td>29968</td>\n",
              "      <td>861</td>\n",
              "      <td>120</td>\n",
              "      <td>154</td>\n",
              "      <td>693</td>\n",
              "      <td>3117</td>\n",
              "      <td>25884</td>\n",
              "      <td>billwatterson</td>\n",
              "      <td>thecompletecalvinandhobbes</td>\n",
              "      <td>billwatterson  thecompletecalvinandhobbes</td>\n",
              "    </tr>\n",
              "    <tr>\n",
              "      <th>3274</th>\n",
              "      <td>3274</td>\n",
              "      <td>3275</td>\n",
              "      <td>8</td>\n",
              "      <td>8</td>\n",
              "      <td>J.K. Rowling, Mary GrandPré</td>\n",
              "      <td>Harry Potter Boxed Set, Books 1-5 (Harry Potte...</td>\n",
              "      <td>eng</td>\n",
              "      <td>4.77</td>\n",
              "      <td>33220</td>\n",
              "      <td>33424</td>\n",
              "      <td>156</td>\n",
              "      <td>317</td>\n",
              "      <td>233</td>\n",
              "      <td>978</td>\n",
              "      <td>3686</td>\n",
              "      <td>28210</td>\n",
              "      <td>j.k.rowling,marygrandpré</td>\n",
              "      <td>harrypotterboxedset,books1-5(harrypotter,#1-5)</td>\n",
              "      <td>j.k.rowling,marygrandpré  harrypotterboxedset,...</td>\n",
              "    </tr>\n",
              "    <tr>\n",
              "      <th>861</th>\n",
              "      <td>861</td>\n",
              "      <td>862</td>\n",
              "      <td>17332218</td>\n",
              "      <td>17332218</td>\n",
              "      <td>Brandon Sanderson</td>\n",
              "      <td>Words of Radiance (The Stormlight Archive, #2)</td>\n",
              "      <td>eng</td>\n",
              "      <td>4.77</td>\n",
              "      <td>73572</td>\n",
              "      <td>108176</td>\n",
              "      <td>7261</td>\n",
              "      <td>154</td>\n",
              "      <td>404</td>\n",
              "      <td>2653</td>\n",
              "      <td>18272</td>\n",
              "      <td>86693</td>\n",
              "      <td>brandonsanderson</td>\n",
              "      <td>wordsofradiance(thestormlightarchive,#2)</td>\n",
              "      <td>brandonsanderson  wordsofradiance(thestormligh...</td>\n",
              "    </tr>\n",
              "    <tr>\n",
              "      <th>8853</th>\n",
              "      <td>8853</td>\n",
              "      <td>8854</td>\n",
              "      <td>95602</td>\n",
              "      <td>95602</td>\n",
              "      <td>Francine Rivers</td>\n",
              "      <td>Mark of the Lion Trilogy</td>\n",
              "      <td>en-US</td>\n",
              "      <td>4.76</td>\n",
              "      <td>9081</td>\n",
              "      <td>9547</td>\n",
              "      <td>731</td>\n",
              "      <td>27</td>\n",
              "      <td>61</td>\n",
              "      <td>323</td>\n",
              "      <td>1363</td>\n",
              "      <td>7773</td>\n",
              "      <td>francinerivers</td>\n",
              "      <td>markoftheliontrilogy</td>\n",
              "      <td>francinerivers  markoftheliontrilogy</td>\n",
              "    </tr>\n",
              "    <tr>\n",
              "      <th>7946</th>\n",
              "      <td>7946</td>\n",
              "      <td>7947</td>\n",
              "      <td>5031805</td>\n",
              "      <td>5031805</td>\n",
              "      <td>Anonymous, Lane T. Dennis, Wayne A. Grudem</td>\n",
              "      <td>ESV Study Bible</td>\n",
              "      <td>eng</td>\n",
              "      <td>4.76</td>\n",
              "      <td>8953</td>\n",
              "      <td>10784</td>\n",
              "      <td>262</td>\n",
              "      <td>98</td>\n",
              "      <td>90</td>\n",
              "      <td>367</td>\n",
              "      <td>1152</td>\n",
              "      <td>9077</td>\n",
              "      <td>anonymous,lanet.dennis,waynea.grudem</td>\n",
              "      <td>esvstudybible</td>\n",
              "      <td>anonymous,lanet.dennis,waynea.grudem  esvstudy...</td>\n",
              "    </tr>\n",
              "  </tbody>\n",
              "</table>\n",
              "</div>"
            ],
            "text/plain": [
              "      index  ...                                               soup\n",
              "3627   3627  ...          billwatterson  thecompletecalvinandhobbes\n",
              "3274   3274  ...  j.k.rowling,marygrandpré  harrypotterboxedset,...\n",
              "861     861  ...  brandonsanderson  wordsofradiance(thestormligh...\n",
              "8853   8853  ...               francinerivers  markoftheliontrilogy\n",
              "7946   7946  ...  anonymous,lanet.dennis,waynea.grudem  esvstudy...\n",
              "\n",
              "[5 rows x 19 columns]"
            ]
          },
          "metadata": {
            "tags": []
          },
          "execution_count": 79
        }
      ]
    },
    {
      "cell_type": "code",
      "metadata": {
        "id": "je5tuut2tkKE",
        "colab": {
          "base_uri": "https://localhost:8080/",
          "height": 312
        },
        "outputId": "c6c98839-0632-422f-8292-b17e2b92185c"
      },
      "source": [
        "pop= df.sort_values('ratings_count', ascending=False)\n",
        "import matplotlib.pyplot as plt\n",
        "plt.figure(figsize=(12,4))\n",
        "\n",
        "plt.barh(pop['title'].head(6),pop['ratings_count'].head(6), align='center',\n",
        "        color='skyblue')\n",
        "plt.gca().invert_yaxis()\n",
        "plt.xlabel(\"Vote count\") \n",
        "plt.title(\"Most Rated Books\")  "
      ],
      "execution_count": null,
      "outputs": [
        {
          "output_type": "execute_result",
          "data": {
            "text/plain": [
              "Text(0.5, 1.0, 'Most Rated Books')"
            ]
          },
          "metadata": {
            "tags": []
          },
          "execution_count": 29
        },
        {
          "output_type": "display_data",
          "data": {
            "image/png": "[encoded data removed]",
            "text/plain": [
              "<Figure size 864x288 with 1 Axes>"
            ]
          },
          "metadata": {
            "tags": [],
            "needs_background": "light"
          }
        }
      ]
    },
    {
      "cell_type": "code",
      "metadata": {
        "id": "S62ELHccrQQD"
      },
      "source": [
        ""
      ],
      "execution_count": null,
      "outputs": []
    },
    {
      "cell_type": "markdown",
      "metadata": {
        "id": "FOArv5ZUxlHx"
      },
      "source": [
        "**Content Based Filtering**\n",
        "In this recommender system the content of the book (overview, cast, crew, keyword, tagline etc) is used to find its similarity with other books. Then the books that are most likely to be similar are recommended."
      ]
    },
    {
      "cell_type": "code",
      "metadata": {
        "id": "_Ojz6BoS77T7",
        "colab": {
          "base_uri": "https://localhost:8080/",
          "height": 133
        },
        "outputId": "d2692829-1977-4001-d3c8-393f3e822195"
      },
      "source": [
        "#Import TfIdfVectorizer from scikit-learn\n",
        "from sklearn.feature_extraction.text import TfidfVectorizer\n",
        "\n",
        "#Define a TF-IDF Vectorizer Object. Remove all english stop words such as 'the', 'a'\n",
        "tfidf = TfidfVectorizer(stop_words='english')\n",
        "\n",
        "#Replace NaN with an empty string\n",
        "#df2['overview'] = df2['overview'].fillna('')\n",
        "df['authors'] = df['authors'].fillna('')\n",
        "\n",
        "#Construct the required TF-IDF matrix by fitting and transforming the data\n",
        "tfidf_matrix = tfidf.fit_transform(df['authors'])\n",
        "\n",
        "#Output the shape of tfidf_matrix\n",
        "tfidf_matrix.shape"
      ],
      "execution_count": null,
      "outputs": [
        {
          "output_type": "stream",
          "text": [
            "/usr/local/lib/python3.6/dist-packages/ipykernel_launcher.py:9: SettingWithCopyWarning: \n",
            "A value is trying to be set on a copy of a slice from a DataFrame.\n",
            "Try using .loc[row_indexer,col_indexer] = value instead\n",
            "\n",
            "See the caveats in the documentation: https://pandas.pydata.org/pandas-docs/stable/user_guide/indexing.html#returning-a-view-versus-a-copy\n",
            "  if __name__ == '__main__':\n"
          ],
          "name": "stderr"
        },
        {
          "output_type": "execute_result",
          "data": {
            "text/plain": [
              "(10000, 6175)"
            ]
          },
          "metadata": {
            "tags": []
          },
          "execution_count": 30
        }
      ]
    },
    {
      "cell_type": "code",
      "metadata": {
        "id": "Ty_xSezU8P8P"
      },
      "source": [
        "# Import linear_kernel\n",
        "from sklearn.metrics.pairwise import linear_kernel\n",
        "\n",
        "# Compute the cosine similarity matrix\n",
        "cosine_sim = linear_kernel(tfidf_matrix, tfidf_matrix)"
      ],
      "execution_count": null,
      "outputs": []
    },
    {
      "cell_type": "code",
      "metadata": {
        "id": "Xgru37mt9Ha-"
      },
      "source": [
        "#Construct a reverse map of indices and movie titles\n",
        "indices = pd.Series(df.index, index=df['title']).drop_duplicates()"
      ],
      "execution_count": null,
      "outputs": []
    },
    {
      "cell_type": "code",
      "metadata": {
        "id": "NzvVRIvn9bJU"
      },
      "source": [
        "# Function that takes in movie title as input and outputs most similar movies\n",
        "def get_recommendations(title, cosine_sim=cosine_sim):\n",
        "    # Get the index of the movie that matches the title\n",
        "    idx = indices[title]\n",
        "\n",
        "    # Get the pairwsie similarity scores of all movies with that movie\n",
        "    sim_scores = list(enumerate(cosine_sim[idx]))\n",
        "\n",
        "    # Sort the movies based on the similarity scores\n",
        "    sim_scores = sorted(sim_scores, key=lambda x: x[1], reverse=True)\n",
        "\n",
        "    # Get the scores of the 10 most similar movies\n",
        "    sim_scores = sim_scores[1:11]\n",
        "\n",
        "    # Get the movie indices\n",
        "    book_indices = [i[0] for i in sim_scores]\n",
        "\n",
        "    # Return the top 10 most similar movies\n",
        "    return df['title'].iloc[book_indices]\n",
        "    #####let's talk bout this technical part for a few minutes, and make it simpler ####"
      ],
      "execution_count": null,
      "outputs": []
    },
    {
      "cell_type": "code",
      "metadata": {
        "id": "DC2qzFIZ9cbJ",
        "colab": {
          "base_uri": "https://localhost:8080/",
          "height": 200
        },
        "outputId": "16c3f35d-8def-48f4-e4aa-2a36c880173e"
      },
      "source": [
        "get_recommendations('The Complete Calvin and Hobbes') ##1 slide with these examples"
      ],
      "execution_count": null,
      "outputs": [
        {
          "output_type": "execute_result",
          "data": {
            "text/plain": [
              "1787         The Calvin and Hobbes Tenth Anniversary Book\n",
              "3627                       The Complete Calvin and Hobbes\n",
              "4482    It's a Magical World: A Calvin and Hobbes Coll...\n",
              "5206    The Days Are Just Packed: A Calvin and Hobbes ...\n",
              "5579               The Calvin and Hobbes Lazy Sunday Book\n",
              "6360    There's Treasure Everywhere: A Calvin and Hobb...\n",
              "6589    The Authoritative Calvin and Hobbes: A Calvin ...\n",
              "6919                  The Indispensable Calvin and Hobbes\n",
              "7253    Homicidal Psycho Jungle Cat: A Calvin and Hobb...\n",
              "8977                          The Revenge of the Baby-Sat\n",
              "Name: title, dtype: object"
            ]
          },
          "metadata": {
            "tags": []
          },
          "execution_count": 34
        }
      ]
    },
    {
      "cell_type": "code",
      "metadata": {
        "id": "cfQNMm4f9rGE",
        "colab": {
          "base_uri": "https://localhost:8080/",
          "height": 200
        },
        "outputId": "11bd783e-815f-44c7-c28b-e2ce1c1fd7f8"
      },
      "source": [
        "get_recommendations('ESV Study Bible')"
      ],
      "execution_count": null,
      "outputs": [
        {
          "output_type": "execute_result",
          "data": {
            "text/plain": [
              "7547    Systematic Theology: An Introduction to Biblic...\n",
              "463                        Holy Bible: King James Version\n",
              "2081                           The Qur'an / القرآن الكريم\n",
              "2235                Holy Bible: New International Version\n",
              "4777             The Holy Bible: English Standard Version\n",
              "9222                      La vida del Lazarillo de Tormes\n",
              "3673    The Power of Intention: Learning to Co-create ...\n",
              "7290    Change Your Thoughts - Change Your Life: Livin...\n",
              "767                                        Shutter Island\n",
              "1175                                         Mystic River\n",
              "Name: title, dtype: object"
            ]
          },
          "metadata": {
            "tags": []
          },
          "execution_count": 35
        }
      ]
    },
    {
      "cell_type": "code",
      "metadata": {
        "id": "JCcPZw9CMYXO",
        "colab": {
          "base_uri": "https://localhost:8080/",
          "height": 417
        },
        "outputId": "83e5b3db-dd0b-4677-b745-7319ff5b5f01"
      },
      "source": [
        "df.head()"
      ],
      "execution_count": null,
      "outputs": [
        {
          "output_type": "execute_result",
          "data": {
            "text/html": [
              "<div>\n",
              "<style scoped>\n",
              "    .dataframe tbody tr th:only-of-type {\n",
              "        vertical-align: middle;\n",
              "    }\n",
              "\n",
              "    .dataframe tbody tr th {\n",
              "        vertical-align: top;\n",
              "    }\n",
              "\n",
              "    .dataframe thead th {\n",
              "        text-align: right;\n",
              "    }\n",
              "</style>\n",
              "<table border=\"1\" class=\"dataframe\">\n",
              "  <thead>\n",
              "    <tr style=\"text-align: right;\">\n",
              "      <th></th>\n",
              "      <th>id</th>\n",
              "      <th>book_id</th>\n",
              "      <th>best_book_id</th>\n",
              "      <th>authors</th>\n",
              "      <th>title</th>\n",
              "      <th>language_code</th>\n",
              "      <th>average_rating</th>\n",
              "      <th>ratings_count</th>\n",
              "      <th>work_ratings_count</th>\n",
              "      <th>work_text_reviews_count</th>\n",
              "      <th>ratings_1</th>\n",
              "      <th>ratings_2</th>\n",
              "      <th>ratings_3</th>\n",
              "      <th>ratings_4</th>\n",
              "      <th>ratings_5</th>\n",
              "    </tr>\n",
              "  </thead>\n",
              "  <tbody>\n",
              "    <tr>\n",
              "      <th>0</th>\n",
              "      <td>1</td>\n",
              "      <td>2767052</td>\n",
              "      <td>2767052</td>\n",
              "      <td>Suzanne Collins</td>\n",
              "      <td>The Hunger Games (The Hunger Games, #1)</td>\n",
              "      <td>eng</td>\n",
              "      <td>4.34</td>\n",
              "      <td>4780653</td>\n",
              "      <td>4942365</td>\n",
              "      <td>155254</td>\n",
              "      <td>66715</td>\n",
              "      <td>127936</td>\n",
              "      <td>560092</td>\n",
              "      <td>1481305</td>\n",
              "      <td>2706317</td>\n",
              "    </tr>\n",
              "    <tr>\n",
              "      <th>1</th>\n",
              "      <td>2</td>\n",
              "      <td>3</td>\n",
              "      <td>3</td>\n",
              "      <td>J.K. Rowling, Mary GrandPré</td>\n",
              "      <td>Harry Potter and the Sorcerer's Stone (Harry P...</td>\n",
              "      <td>eng</td>\n",
              "      <td>4.44</td>\n",
              "      <td>4602479</td>\n",
              "      <td>4800065</td>\n",
              "      <td>75867</td>\n",
              "      <td>75504</td>\n",
              "      <td>101676</td>\n",
              "      <td>455024</td>\n",
              "      <td>1156318</td>\n",
              "      <td>3011543</td>\n",
              "    </tr>\n",
              "    <tr>\n",
              "      <th>2</th>\n",
              "      <td>3</td>\n",
              "      <td>41865</td>\n",
              "      <td>41865</td>\n",
              "      <td>Stephenie Meyer</td>\n",
              "      <td>Twilight (Twilight, #1)</td>\n",
              "      <td>en-US</td>\n",
              "      <td>3.57</td>\n",
              "      <td>3866839</td>\n",
              "      <td>3916824</td>\n",
              "      <td>95009</td>\n",
              "      <td>456191</td>\n",
              "      <td>436802</td>\n",
              "      <td>793319</td>\n",
              "      <td>875073</td>\n",
              "      <td>1355439</td>\n",
              "    </tr>\n",
              "    <tr>\n",
              "      <th>3</th>\n",
              "      <td>4</td>\n",
              "      <td>2657</td>\n",
              "      <td>2657</td>\n",
              "      <td>Harper Lee</td>\n",
              "      <td>To Kill a Mockingbird</td>\n",
              "      <td>eng</td>\n",
              "      <td>4.25</td>\n",
              "      <td>3198671</td>\n",
              "      <td>3340896</td>\n",
              "      <td>72586</td>\n",
              "      <td>60427</td>\n",
              "      <td>117415</td>\n",
              "      <td>446835</td>\n",
              "      <td>1001952</td>\n",
              "      <td>1714267</td>\n",
              "    </tr>\n",
              "    <tr>\n",
              "      <th>4</th>\n",
              "      <td>5</td>\n",
              "      <td>4671</td>\n",
              "      <td>4671</td>\n",
              "      <td>F. Scott Fitzgerald</td>\n",
              "      <td>The Great Gatsby</td>\n",
              "      <td>eng</td>\n",
              "      <td>3.89</td>\n",
              "      <td>2683664</td>\n",
              "      <td>2773745</td>\n",
              "      <td>51992</td>\n",
              "      <td>86236</td>\n",
              "      <td>197621</td>\n",
              "      <td>606158</td>\n",
              "      <td>936012</td>\n",
              "      <td>947718</td>\n",
              "    </tr>\n",
              "  </tbody>\n",
              "</table>\n",
              "</div>"
            ],
            "text/plain": [
              "   id  book_id  best_book_id  ... ratings_3 ratings_4 ratings_5\n",
              "0   1  2767052       2767052  ...    560092   1481305   2706317\n",
              "1   2        3             3  ...    455024   1156318   3011543\n",
              "2   3    41865         41865  ...    793319    875073   1355439\n",
              "3   4     2657          2657  ...    446835   1001952   1714267\n",
              "4   5     4671          4671  ...    606158    936012    947718\n",
              "\n",
              "[5 rows x 15 columns]"
            ]
          },
          "metadata": {
            "tags": []
          },
          "execution_count": 36
        }
      ]
    },
    {
      "cell_type": "code",
      "metadata": {
        "id": "Fc0SSFR298BM"
      },
      "source": [
        "# Returns the list top 3 elements or entire list; whichever is more.\n",
        "def get_list(x):\n",
        "    if isinstance(x, list):\n",
        "        names = [i['name'] for i in x]\n",
        "        #Check if more than 3 elements exist. If yes, return only first three. If no, return entire list.\n",
        "        if len(names) > 3:\n",
        "            names = names[:3]\n",
        "        return names\n",
        "\n",
        "    #Return empty list in case of missing/malformed data\n",
        "    return []"
      ],
      "execution_count": null,
      "outputs": []
    },
    {
      "cell_type": "code",
      "metadata": {
        "id": "UsWqAh4y-NF-"
      },
      "source": [
        "# Function to convert all strings to lower case and strip names of spaces\n",
        "def clean_data(x):\n",
        "    if isinstance(x, list):\n",
        "        return [str.lower(i.replace(\" \", \"\")) for i in x]\n",
        "    else:\n",
        "        #Check if director exists. If not, return empty string\n",
        "        if isinstance(x, str):\n",
        "            return str.lower(x.replace(\" \", \"\"))\n",
        "        else:\n",
        "            return ''"
      ],
      "execution_count": null,
      "outputs": []
    },
    {
      "cell_type": "code",
      "metadata": {
        "id": "nupFoJTh-VvM",
        "colab": {
          "base_uri": "https://localhost:8080/",
          "height": 117
        },
        "outputId": "ff83b1c2-1a80-4e92-b647-de96fb1f77c6"
      },
      "source": [
        "df['new_authors']= df['authors'].apply(clean_data)"
      ],
      "execution_count": null,
      "outputs": [
        {
          "output_type": "stream",
          "text": [
            "/usr/local/lib/python3.6/dist-packages/ipykernel_launcher.py:1: SettingWithCopyWarning: \n",
            "A value is trying to be set on a copy of a slice from a DataFrame.\n",
            "Try using .loc[row_indexer,col_indexer] = value instead\n",
            "\n",
            "See the caveats in the documentation: https://pandas.pydata.org/pandas-docs/stable/user_guide/indexing.html#returning-a-view-versus-a-copy\n",
            "  \"\"\"Entry point for launching an IPython kernel.\n"
          ],
          "name": "stderr"
        }
      ]
    },
    {
      "cell_type": "code",
      "metadata": {
        "id": "f6__0_qk5ZOj",
        "colab": {
          "base_uri": "https://localhost:8080/",
          "height": 117
        },
        "outputId": "3d1bb3b9-1b66-45e8-812a-3d2552a4c6dc"
      },
      "source": [
        "df['new_title']= df['title'].apply(clean_data)"
      ],
      "execution_count": null,
      "outputs": [
        {
          "output_type": "stream",
          "text": [
            "/usr/local/lib/python3.6/dist-packages/ipykernel_launcher.py:1: SettingWithCopyWarning: \n",
            "A value is trying to be set on a copy of a slice from a DataFrame.\n",
            "Try using .loc[row_indexer,col_indexer] = value instead\n",
            "\n",
            "See the caveats in the documentation: https://pandas.pydata.org/pandas-docs/stable/user_guide/indexing.html#returning-a-view-versus-a-copy\n",
            "  \"\"\"Entry point for launching an IPython kernel.\n"
          ],
          "name": "stderr"
        }
      ]
    },
    {
      "cell_type": "code",
      "metadata": {
        "id": "2iqp_mIuPurR",
        "colab": {
          "base_uri": "https://localhost:8080/",
          "height": 801
        },
        "outputId": "88697ebc-e315-4b69-9555-47cde1cbe6bf"
      },
      "source": [
        "df.iloc[30:40]"
      ],
      "execution_count": null,
      "outputs": [
        {
          "output_type": "execute_result",
          "data": {
            "text/html": [
              "<div>\n",
              "<style scoped>\n",
              "    .dataframe tbody tr th:only-of-type {\n",
              "        vertical-align: middle;\n",
              "    }\n",
              "\n",
              "    .dataframe tbody tr th {\n",
              "        vertical-align: top;\n",
              "    }\n",
              "\n",
              "    .dataframe thead th {\n",
              "        text-align: right;\n",
              "    }\n",
              "</style>\n",
              "<table border=\"1\" class=\"dataframe\">\n",
              "  <thead>\n",
              "    <tr style=\"text-align: right;\">\n",
              "      <th></th>\n",
              "      <th>id</th>\n",
              "      <th>book_id</th>\n",
              "      <th>best_book_id</th>\n",
              "      <th>authors</th>\n",
              "      <th>title</th>\n",
              "      <th>language_code</th>\n",
              "      <th>average_rating</th>\n",
              "      <th>ratings_count</th>\n",
              "      <th>work_ratings_count</th>\n",
              "      <th>work_text_reviews_count</th>\n",
              "      <th>ratings_1</th>\n",
              "      <th>ratings_2</th>\n",
              "      <th>ratings_3</th>\n",
              "      <th>ratings_4</th>\n",
              "      <th>ratings_5</th>\n",
              "      <th>new_authors</th>\n",
              "      <th>new_title</th>\n",
              "    </tr>\n",
              "  </thead>\n",
              "  <tbody>\n",
              "    <tr>\n",
              "      <th>30</th>\n",
              "      <td>31</td>\n",
              "      <td>4667024</td>\n",
              "      <td>4667024</td>\n",
              "      <td>Kathryn Stockett</td>\n",
              "      <td>The Help</td>\n",
              "      <td>eng</td>\n",
              "      <td>4.45</td>\n",
              "      <td>1531753</td>\n",
              "      <td>1603545</td>\n",
              "      <td>78204</td>\n",
              "      <td>10235</td>\n",
              "      <td>25117</td>\n",
              "      <td>134887</td>\n",
              "      <td>490754</td>\n",
              "      <td>942552</td>\n",
              "      <td>kathrynstockett</td>\n",
              "      <td>thehelp</td>\n",
              "    </tr>\n",
              "    <tr>\n",
              "      <th>31</th>\n",
              "      <td>32</td>\n",
              "      <td>890</td>\n",
              "      <td>890</td>\n",
              "      <td>John Steinbeck</td>\n",
              "      <td>Of Mice and Men</td>\n",
              "      <td>eng</td>\n",
              "      <td>3.84</td>\n",
              "      <td>1467496</td>\n",
              "      <td>1518741</td>\n",
              "      <td>24642</td>\n",
              "      <td>46630</td>\n",
              "      <td>110856</td>\n",
              "      <td>355169</td>\n",
              "      <td>532291</td>\n",
              "      <td>473795</td>\n",
              "      <td>johnsteinbeck</td>\n",
              "      <td>ofmiceandmen</td>\n",
              "    </tr>\n",
              "    <tr>\n",
              "      <th>32</th>\n",
              "      <td>33</td>\n",
              "      <td>930</td>\n",
              "      <td>929</td>\n",
              "      <td>Arthur Golden</td>\n",
              "      <td>Memoirs of a Geisha</td>\n",
              "      <td>eng</td>\n",
              "      <td>4.08</td>\n",
              "      <td>1300209</td>\n",
              "      <td>1418172</td>\n",
              "      <td>25605</td>\n",
              "      <td>23500</td>\n",
              "      <td>59033</td>\n",
              "      <td>258700</td>\n",
              "      <td>517157</td>\n",
              "      <td>559782</td>\n",
              "      <td>arthurgolden</td>\n",
              "      <td>memoirsofageisha</td>\n",
              "    </tr>\n",
              "    <tr>\n",
              "      <th>33</th>\n",
              "      <td>34</td>\n",
              "      <td>10818853</td>\n",
              "      <td>10818853</td>\n",
              "      <td>E.L. James</td>\n",
              "      <td>Fifty Shades of Grey (Fifty Shades, #1)</td>\n",
              "      <td>eng</td>\n",
              "      <td>3.67</td>\n",
              "      <td>1338493</td>\n",
              "      <td>1436818</td>\n",
              "      <td>75437</td>\n",
              "      <td>165455</td>\n",
              "      <td>152293</td>\n",
              "      <td>252185</td>\n",
              "      <td>294976</td>\n",
              "      <td>571909</td>\n",
              "      <td>e.l.james</td>\n",
              "      <td>fiftyshadesofgrey(fiftyshades,#1)</td>\n",
              "    </tr>\n",
              "    <tr>\n",
              "      <th>34</th>\n",
              "      <td>35</td>\n",
              "      <td>865</td>\n",
              "      <td>865</td>\n",
              "      <td>Paulo Coelho, Alan R. Clarke</td>\n",
              "      <td>The Alchemist</td>\n",
              "      <td>eng</td>\n",
              "      <td>3.82</td>\n",
              "      <td>1299566</td>\n",
              "      <td>1403995</td>\n",
              "      <td>55781</td>\n",
              "      <td>74846</td>\n",
              "      <td>123614</td>\n",
              "      <td>289143</td>\n",
              "      <td>412180</td>\n",
              "      <td>504212</td>\n",
              "      <td>paulocoelho,alanr.clarke</td>\n",
              "      <td>thealchemist</td>\n",
              "    </tr>\n",
              "    <tr>\n",
              "      <th>35</th>\n",
              "      <td>36</td>\n",
              "      <td>3636</td>\n",
              "      <td>3636</td>\n",
              "      <td>Lois Lowry</td>\n",
              "      <td>The Giver (The Giver, #1)</td>\n",
              "      <td>eng</td>\n",
              "      <td>4.12</td>\n",
              "      <td>1296825</td>\n",
              "      <td>1345445</td>\n",
              "      <td>54084</td>\n",
              "      <td>26497</td>\n",
              "      <td>59652</td>\n",
              "      <td>225326</td>\n",
              "      <td>448691</td>\n",
              "      <td>585279</td>\n",
              "      <td>loislowry</td>\n",
              "      <td>thegiver(thegiver,#1)</td>\n",
              "    </tr>\n",
              "    <tr>\n",
              "      <th>36</th>\n",
              "      <td>37</td>\n",
              "      <td>100915</td>\n",
              "      <td>100915</td>\n",
              "      <td>C.S. Lewis</td>\n",
              "      <td>The Lion, the Witch, and the Wardrobe (Chronic...</td>\n",
              "      <td>eng</td>\n",
              "      <td>4.19</td>\n",
              "      <td>1531800</td>\n",
              "      <td>1584884</td>\n",
              "      <td>15186</td>\n",
              "      <td>19309</td>\n",
              "      <td>55542</td>\n",
              "      <td>262038</td>\n",
              "      <td>513366</td>\n",
              "      <td>734629</td>\n",
              "      <td>c.s.lewis</td>\n",
              "      <td>thelion,thewitch,andthewardrobe(chroniclesofna...</td>\n",
              "    </tr>\n",
              "    <tr>\n",
              "      <th>37</th>\n",
              "      <td>38</td>\n",
              "      <td>14050</td>\n",
              "      <td>18619684</td>\n",
              "      <td>Audrey Niffenegger</td>\n",
              "      <td>The Time Traveler's Wife</td>\n",
              "      <td>eng</td>\n",
              "      <td>3.95</td>\n",
              "      <td>746287</td>\n",
              "      <td>1308667</td>\n",
              "      <td>43382</td>\n",
              "      <td>44339</td>\n",
              "      <td>85429</td>\n",
              "      <td>257805</td>\n",
              "      <td>427210</td>\n",
              "      <td>493884</td>\n",
              "      <td>audreyniffenegger</td>\n",
              "      <td>thetimetraveler'swife</td>\n",
              "    </tr>\n",
              "    <tr>\n",
              "      <th>38</th>\n",
              "      <td>39</td>\n",
              "      <td>13496</td>\n",
              "      <td>13496</td>\n",
              "      <td>George R.R. Martin</td>\n",
              "      <td>A Game of Thrones (A Song of Ice and Fire, #1)</td>\n",
              "      <td>eng</td>\n",
              "      <td>4.45</td>\n",
              "      <td>1319204</td>\n",
              "      <td>1442220</td>\n",
              "      <td>46205</td>\n",
              "      <td>19988</td>\n",
              "      <td>28983</td>\n",
              "      <td>114092</td>\n",
              "      <td>404583</td>\n",
              "      <td>874574</td>\n",
              "      <td>georger.r.martin</td>\n",
              "      <td>agameofthrones(asongoficeandfire,#1)</td>\n",
              "    </tr>\n",
              "    <tr>\n",
              "      <th>39</th>\n",
              "      <td>40</td>\n",
              "      <td>19501</td>\n",
              "      <td>19501</td>\n",
              "      <td>Elizabeth Gilbert</td>\n",
              "      <td>Eat, Pray, Love</td>\n",
              "      <td>eng</td>\n",
              "      <td>3.51</td>\n",
              "      <td>1181647</td>\n",
              "      <td>1206597</td>\n",
              "      <td>49714</td>\n",
              "      <td>100373</td>\n",
              "      <td>149549</td>\n",
              "      <td>310212</td>\n",
              "      <td>332191</td>\n",
              "      <td>314272</td>\n",
              "      <td>elizabethgilbert</td>\n",
              "      <td>eat,pray,love</td>\n",
              "    </tr>\n",
              "  </tbody>\n",
              "</table>\n",
              "</div>"
            ],
            "text/plain": [
              "    id  ...                                          new_title\n",
              "30  31  ...                                            thehelp\n",
              "31  32  ...                                       ofmiceandmen\n",
              "32  33  ...                                   memoirsofageisha\n",
              "33  34  ...                  fiftyshadesofgrey(fiftyshades,#1)\n",
              "34  35  ...                                       thealchemist\n",
              "35  36  ...                              thegiver(thegiver,#1)\n",
              "36  37  ...  thelion,thewitch,andthewardrobe(chroniclesofna...\n",
              "37  38  ...                              thetimetraveler'swife\n",
              "38  39  ...               agameofthrones(asongoficeandfire,#1)\n",
              "39  40  ...                                      eat,pray,love\n",
              "\n",
              "[10 rows x 17 columns]"
            ]
          },
          "metadata": {
            "tags": []
          },
          "execution_count": 41
        }
      ]
    },
    {
      "cell_type": "code",
      "metadata": {
        "id": "8CX3qC7nN2jl",
        "colab": {
          "base_uri": "https://localhost:8080/",
          "height": 117
        },
        "outputId": "bc5db478-3cac-4652-bea5-5f9ab2022140"
      },
      "source": [
        "df['new_authors'].head()"
      ],
      "execution_count": null,
      "outputs": [
        {
          "output_type": "execute_result",
          "data": {
            "text/plain": [
              "0              suzannecollins\n",
              "1    j.k.rowling,marygrandpré\n",
              "2              stepheniemeyer\n",
              "3                   harperlee\n",
              "4           f.scottfitzgerald\n",
              "Name: new_authors, dtype: object"
            ]
          },
          "metadata": {
            "tags": []
          },
          "execution_count": 42
        }
      ]
    },
    {
      "cell_type": "code",
      "metadata": {
        "id": "nJCJkjzB5mdL",
        "colab": {
          "base_uri": "https://localhost:8080/",
          "height": 117
        },
        "outputId": "a1241b1c-1380-48bf-eb74-6adc7bf05b43"
      },
      "source": [
        "df['new_title'].head()"
      ],
      "execution_count": null,
      "outputs": [
        {
          "output_type": "execute_result",
          "data": {
            "text/plain": [
              "0                   thehungergames(thehungergames,#1)\n",
              "1    harrypotterandthesorcerer'sstone(harrypotter,#1)\n",
              "2                               twilight(twilight,#1)\n",
              "3                                  tokillamockingbird\n",
              "4                                      thegreatgatsby\n",
              "Name: new_title, dtype: object"
            ]
          },
          "metadata": {
            "tags": []
          },
          "execution_count": 43
        }
      ]
    },
    {
      "cell_type": "code",
      "metadata": {
        "id": "id4XQjFSNxkR",
        "colab": {
          "base_uri": "https://localhost:8080/",
          "height": 117
        },
        "outputId": "48b87d22-7c6b-4dfb-ce63-fc01b2d26b88"
      },
      "source": [
        "### SKIP THIS FOR  NOW ###\n",
        "\n",
        "def create_soup(x):\n",
        "    return ' '.join(x['new_authors']) + ' ' + ' '.join(x['new_title'])\n",
        "df['soup'] = df.apply(create_soup, axis=1) #####################  maybe we'll skip this all\n",
        "\n",
        "## we can try to implement this later  using soup= title + author"
      ],
      "execution_count": null,
      "outputs": [
        {
          "output_type": "stream",
          "text": [
            "/usr/local/lib/python3.6/dist-packages/ipykernel_launcher.py:5: SettingWithCopyWarning: \n",
            "A value is trying to be set on a copy of a slice from a DataFrame.\n",
            "Try using .loc[row_indexer,col_indexer] = value instead\n",
            "\n",
            "See the caveats in the documentation: https://pandas.pydata.org/pandas-docs/stable/user_guide/indexing.html#returning-a-view-versus-a-copy\n",
            "  \"\"\"\n"
          ],
          "name": "stderr"
        }
      ]
    },
    {
      "cell_type": "code",
      "metadata": {
        "id": "c5x87_BF7F6U",
        "colab": {
          "base_uri": "https://localhost:8080/",
          "height": 117
        },
        "outputId": "a5841570-0db6-4b1c-8b8c-1cbe8658c051"
      },
      "source": [
        "# Trying to create our soup \n",
        "df['soup']= df['new_authors']+ ' ' + ' '+df['new_title']"
      ],
      "execution_count": null,
      "outputs": [
        {
          "output_type": "stream",
          "text": [
            "/usr/local/lib/python3.6/dist-packages/ipykernel_launcher.py:2: SettingWithCopyWarning: \n",
            "A value is trying to be set on a copy of a slice from a DataFrame.\n",
            "Try using .loc[row_indexer,col_indexer] = value instead\n",
            "\n",
            "See the caveats in the documentation: https://pandas.pydata.org/pandas-docs/stable/user_guide/indexing.html#returning-a-view-versus-a-copy\n",
            "  \n"
          ],
          "name": "stderr"
        }
      ]
    },
    {
      "cell_type": "code",
      "metadata": {
        "id": "xD93I-ZP36Sb",
        "colab": {
          "base_uri": "https://localhost:8080/",
          "height": 117
        },
        "outputId": "4a4ef9a0-f6d5-4863-c308-fa4bbfaf7d5a"
      },
      "source": [
        "df['soup'].head()"
      ],
      "execution_count": null,
      "outputs": [
        {
          "output_type": "execute_result",
          "data": {
            "text/plain": [
              "0    suzannecollins  thehungergames(thehungergames,#1)\n",
              "1    j.k.rowling,marygrandpré  harrypotterandthesor...\n",
              "2                stepheniemeyer  twilight(twilight,#1)\n",
              "3                        harperlee  tokillamockingbird\n",
              "4                    f.scottfitzgerald  thegreatgatsby\n",
              "Name: soup, dtype: object"
            ]
          },
          "metadata": {
            "tags": []
          },
          "execution_count": 46
        }
      ]
    },
    {
      "cell_type": "code",
      "metadata": {
        "id": "atetMVST-fm9"
      },
      "source": [
        "# Import CountVectorizer and create the count matrix\n",
        "from sklearn.feature_extraction.text import CountVectorizer\n",
        "\n",
        "count = CountVectorizer(stop_words='english')\n",
        "count_matrix = count.fit_transform(df['new_authors'])"
      ],
      "execution_count": null,
      "outputs": []
    },
    {
      "cell_type": "code",
      "metadata": {
        "id": "Y-DKHH3k-h5c"
      },
      "source": [
        "# Compute the Cosine Similarity matrix based on the count_matrix\n",
        "from sklearn.metrics.pairwise import cosine_similarity\n",
        "\n",
        "cosine_sim2 = cosine_similarity(count_matrix, count_matrix)"
      ],
      "execution_count": null,
      "outputs": []
    },
    {
      "cell_type": "code",
      "metadata": {
        "id": "g5yjWuO0-k2d"
      },
      "source": [
        "# Reset index of our main DataFrame and construct reverse mapping as before\n",
        "df = df.reset_index()\n",
        "indices = pd.Series(df.index, index=df['title'])"
      ],
      "execution_count": null,
      "outputs": []
    },
    {
      "cell_type": "code",
      "metadata": {
        "id": "C4CbYfXW-nud",
        "colab": {
          "base_uri": "https://localhost:8080/",
          "height": 200
        },
        "outputId": "41f7499f-8c78-4935-8c88-a97f0579190f"
      },
      "source": [
        "get_recommendations('The Complete Calvin and Hobbes', cosine_sim2) "
      ],
      "execution_count": null,
      "outputs": [
        {
          "output_type": "execute_result",
          "data": {
            "text/plain": [
              "1787         The Calvin and Hobbes Tenth Anniversary Book\n",
              "3627                       The Complete Calvin and Hobbes\n",
              "4482    It's a Magical World: A Calvin and Hobbes Coll...\n",
              "5206    The Days Are Just Packed: A Calvin and Hobbes ...\n",
              "5579               The Calvin and Hobbes Lazy Sunday Book\n",
              "6360    There's Treasure Everywhere: A Calvin and Hobb...\n",
              "6589    The Authoritative Calvin and Hobbes: A Calvin ...\n",
              "6919                  The Indispensable Calvin and Hobbes\n",
              "7253    Homicidal Psycho Jungle Cat: A Calvin and Hobb...\n",
              "8977                          The Revenge of the Baby-Sat\n",
              "Name: title, dtype: object"
            ]
          },
          "metadata": {
            "tags": []
          },
          "execution_count": 50
        }
      ]
    },
    {
      "cell_type": "code",
      "metadata": {
        "id": "i9Tdegf--1TW",
        "colab": {
          "base_uri": "https://localhost:8080/",
          "height": 200
        },
        "outputId": "01bf6607-543c-4f80-e362-42e4e490d9c2"
      },
      "source": [
        "get_recommendations('ESV Study Bible', cosine_sim2)"
      ],
      "execution_count": null,
      "outputs": [
        {
          "output_type": "execute_result",
          "data": {
            "text/plain": [
              "7547    Systematic Theology: An Introduction to Biblic...\n",
              "463                        Holy Bible: King James Version\n",
              "2081                           The Qur'an / القرآن الكريم\n",
              "2235                Holy Bible: New International Version\n",
              "4777             The Holy Bible: English Standard Version\n",
              "9222                      La vida del Lazarillo de Tormes\n",
              "424                                          Go Ask Alice\n",
              "1337    The Book of Mormon: Another Testament of Jesus...\n",
              "2075                                The Epic of Gilgamesh\n",
              "9678       The Upanishads: Translations from the Sanskrit\n",
              "Name: title, dtype: object"
            ]
          },
          "metadata": {
            "tags": []
          },
          "execution_count": 51
        }
      ]
    },
    {
      "cell_type": "code",
      "metadata": {
        "id": "TXbf7dCJUbK9",
        "colab": {
          "base_uri": "https://localhost:8080/",
          "height": 200
        },
        "outputId": "de4636a6-e407-46e9-b8e5-67a826dcacbd"
      },
      "source": [
        "get_recommendations('To Kill a Mockingbird')"
      ],
      "execution_count": null,
      "outputs": [
        {
          "output_type": "execute_result",
          "data": {
            "text/plain": [
              "532                                  Go Set a Watchman\n",
              "9887                                   The Last Boleyn\n",
              "7239                          The Dry (Aaron Falk, #1)\n",
              "6492                         Axel (Corps Security, #1)\n",
              "8393                         Cage (Corps Security, #2)\n",
              "9361    Nice Girls Don't Have Fangs (Jane Jameson, #1)\n",
              "476                   Killing Floor (Jack Reacher, #1)\n",
              "1357                       One Shot (Jack Reacher, #9)\n",
              "1423                     Die Trying (Jack Reacher, #2)\n",
              "1599                      Tripwire  (Jack Reacher, #3)\n",
              "Name: title, dtype: object"
            ]
          },
          "metadata": {
            "tags": []
          },
          "execution_count": 52
        }
      ]
    },
    {
      "cell_type": "code",
      "metadata": {
        "id": "97B7ywh7Ug-v",
        "colab": {
          "base_uri": "https://localhost:8080/",
          "height": 200
        },
        "outputId": "64c48067-54c1-4ec2-b788-d8e910ec8c6e"
      },
      "source": [
        "get_recommendations('To Kill a Mockingbird', cosine_sim2) #try to weight it, not to take into account the authors"
      ],
      "execution_count": null,
      "outputs": [
        {
          "output_type": "execute_result",
          "data": {
            "text/plain": [
              "532                                    Go Set a Watchman\n",
              "0                The Hunger Games (The Hunger Games, #1)\n",
              "1      Harry Potter and the Sorcerer's Stone (Harry P...\n",
              "2                                Twilight (Twilight, #1)\n",
              "4                                       The Great Gatsby\n",
              "5                                 The Fault in Our Stars\n",
              "6                                             The Hobbit\n",
              "7                                 The Catcher in the Rye\n",
              "8                  Angels & Demons  (Robert Langdon, #1)\n",
              "9                                    Pride and Prejudice\n",
              "Name: title, dtype: object"
            ]
          },
          "metadata": {
            "tags": []
          },
          "execution_count": 53
        }
      ]
    },
    {
      "cell_type": "code",
      "metadata": {
        "id": "kfFAtBnYU1w3",
        "colab": {
          "base_uri": "https://localhost:8080/",
          "height": 200
        },
        "outputId": "11ba45cf-166c-40a0-a0f8-394bb9fb0e4e"
      },
      "source": [
        "get_recommendations('Jane Eyre')"
      ],
      "execution_count": null,
      "outputs": [
        {
          "output_type": "execute_result",
          "data": {
            "text/plain": [
              "8206                             The Professor\n",
              "9417           Daily Rituals: How Artists Work\n",
              "4869                                   Shirley\n",
              "2498                                  Villette\n",
              "5594                              The Lifeboat\n",
              "62                           Wuthering Heights\n",
              "1784    The Yellow Wallpaper and Other Stories\n",
              "1770               The Tenant of Wildfell Hall\n",
              "7240                      Full House (Full #1)\n",
              "8762                       Full Tilt (Full #2)\n",
              "Name: title, dtype: object"
            ]
          },
          "metadata": {
            "tags": []
          },
          "execution_count": 54
        }
      ]
    },
    {
      "cell_type": "code",
      "metadata": {
        "id": "9Gsc33xyVeq5",
        "colab": {
          "base_uri": "https://localhost:8080/",
          "height": 200
        },
        "outputId": "f3fee4b2-78a3-4574-c38f-afef3e84c833"
      },
      "source": [
        "get_recommendations(\"Jane Eyre\", cosine_sim2) #break it when it finds 0 &1 &2 and then append the recommendations from only title"
      ],
      "execution_count": null,
      "outputs": [
        {
          "output_type": "execute_result",
          "data": {
            "text/plain": [
              "8206                                        The Professor\n",
              "2498                                             Villette\n",
              "4869                                              Shirley\n",
              "0                 The Hunger Games (The Hunger Games, #1)\n",
              "1       Harry Potter and the Sorcerer's Stone (Harry P...\n",
              "2                                 Twilight (Twilight, #1)\n",
              "3                                   To Kill a Mockingbird\n",
              "4                                        The Great Gatsby\n",
              "5                                  The Fault in Our Stars\n",
              "6                                              The Hobbit\n",
              "Name: title, dtype: object"
            ]
          },
          "metadata": {
            "tags": []
          },
          "execution_count": 55
        }
      ]
    },
    {
      "cell_type": "code",
      "metadata": {
        "id": "lCoVxCQsRe-b"
      },
      "source": [
        "#let's try with soup now \n",
        "count = CountVectorizer(stop_words='english')\n",
        "count_matrix_soup = count.fit_transform(df['soup'])"
      ],
      "execution_count": null,
      "outputs": []
    },
    {
      "cell_type": "code",
      "metadata": {
        "id": "3cEoHeOFRfFm"
      },
      "source": [
        "cosine_sim3 = cosine_similarity(count_matrix_soup, count_matrix_soup)"
      ],
      "execution_count": null,
      "outputs": []
    },
    {
      "cell_type": "code",
      "metadata": {
        "id": "q9YmHRKDRfNV",
        "colab": {
          "base_uri": "https://localhost:8080/",
          "height": 200
        },
        "outputId": "f6b84e5a-26a9-495c-8d5c-8ca865d00c6c"
      },
      "source": [
        "get_recommendations('The Complete Calvin and Hobbes', cosine_sim3)"
      ],
      "execution_count": null,
      "outputs": [
        {
          "output_type": "execute_result",
          "data": {
            "text/plain": [
              "1787         The Calvin and Hobbes Tenth Anniversary Book\n",
              "5579               The Calvin and Hobbes Lazy Sunday Book\n",
              "6919                  The Indispensable Calvin and Hobbes\n",
              "9565    Attack of the Deranged Mutant Killer Monster S...\n",
              "779                                     Calvin and Hobbes\n",
              "1009    The Essential Calvin and Hobbes: A Calvin and ...\n",
              "4482    It's a Magical World: A Calvin and Hobbes Coll...\n",
              "5206    The Days Are Just Packed: A Calvin and Hobbes ...\n",
              "6360    There's Treasure Everywhere: A Calvin and Hobb...\n",
              "6589    The Authoritative Calvin and Hobbes: A Calvin ...\n",
              "Name: title, dtype: object"
            ]
          },
          "metadata": {
            "tags": []
          },
          "execution_count": 58
        }
      ]
    },
    {
      "cell_type": "code",
      "metadata": {
        "id": "k6ibW0eGRfKp",
        "colab": {
          "base_uri": "https://localhost:8080/",
          "height": 200
        },
        "outputId": "73fa473d-9786-47b7-d5c3-d131232ecb7a"
      },
      "source": [
        "get_recommendations(\"Jane Eyre\", cosine_sim3)"
      ],
      "execution_count": null,
      "outputs": [
        {
          "output_type": "execute_result",
          "data": {
            "text/plain": [
              "8206                                        The Professor\n",
              "2498                                             Villette\n",
              "4869                                              Shirley\n",
              "0                 The Hunger Games (The Hunger Games, #1)\n",
              "1       Harry Potter and the Sorcerer's Stone (Harry P...\n",
              "2                                 Twilight (Twilight, #1)\n",
              "3                                   To Kill a Mockingbird\n",
              "4                                        The Great Gatsby\n",
              "5                                  The Fault in Our Stars\n",
              "6                                              The Hobbit\n",
              "Name: title, dtype: object"
            ]
          },
          "metadata": {
            "tags": []
          },
          "execution_count": 59
        }
      ]
    },
    {
      "cell_type": "code",
      "metadata": {
        "id": "hXQIzHPZRfIV"
      },
      "source": [
        ""
      ],
      "execution_count": null,
      "outputs": []
    },
    {
      "cell_type": "markdown",
      "metadata": {
        "id": "4JtQhpgeXQWJ"
      },
      "source": [
        "NB: our model with cosine_sim2 only takes into account the author! Therefore it ends up with recommending random titles if the authors hasn't written at least 10 books. we can mix the author with the title, it should be similar to the first forecast, but still we can avoid the random recommendations\n"
      ]
    },
    {
      "cell_type": "code",
      "metadata": {
        "id": "Z0r2mfEItTNX",
        "colab": {
          "base_uri": "https://localhost:8080/",
          "height": 283
        },
        "outputId": "d6855c91-ab8b-4479-97a6-515086207a83"
      },
      "source": [
        "pip install surprise"
      ],
      "execution_count": null,
      "outputs": [
        {
          "output_type": "stream",
          "text": [
            "Collecting surprise\n",
            "  Downloading https://files.pythonhosted.org/packages/61/de/e5cba8682201fcf9c3719a6fdda95693468ed061945493dea2dd37c5618b/surprise-0.1-py2.py3-none-any.whl\n",
            "Collecting scikit-surprise\n",
            "\u001b[?25l  Downloading https://files.pythonhosted.org/packages/f5/da/b5700d96495fb4f092be497f02492768a3d96a3f4fa2ae7dea46d4081cfa/scikit-surprise-1.1.0.tar.gz (6.4MB)\n",
            "\u001b[K     |████████████████████████████████| 6.5MB 2.7MB/s \n",
            "\u001b[?25hRequirement already satisfied: joblib>=0.11 in /usr/local/lib/python3.6/dist-packages (from scikit-surprise->surprise) (0.15.1)\n",
            "Requirement already satisfied: numpy>=1.11.2 in /usr/local/lib/python3.6/dist-packages (from scikit-surprise->surprise) (1.18.5)\n",
            "Requirement already satisfied: scipy>=1.0.0 in /usr/local/lib/python3.6/dist-packages (from scikit-surprise->surprise) (1.4.1)\n",
            "Requirement already satisfied: six>=1.10.0 in /usr/local/lib/python3.6/dist-packages (from scikit-surprise->surprise) (1.12.0)\n",
            "Building wheels for collected packages: scikit-surprise\n",
            "  Building wheel for scikit-surprise (setup.py) ... \u001b[?25l\u001b[?25hdone\n",
            "  Created wheel for scikit-surprise: filename=scikit_surprise-1.1.0-cp36-cp36m-linux_x86_64.whl size=1675710 sha256=b7dec3f95c02d5a4aad8ea83e97ceb59df0884c36be2cd08ddf537042ee18ce9\n",
            "  Stored in directory: /root/.cache/pip/wheels/cc/fa/8c/16c93fccce688ae1bde7d979ff102f7bee980d9cfeb8641bcf\n",
            "Successfully built scikit-surprise\n",
            "Installing collected packages: scikit-surprise, surprise\n",
            "Successfully installed scikit-surprise-1.1.0 surprise-0.1\n"
          ],
          "name": "stdout"
        }
      ]
    },
    {
      "cell_type": "code",
      "metadata": {
        "id": "dgjRPYfefLzR",
        "colab": {
          "base_uri": "https://localhost:8080/",
          "height": 197
        },
        "outputId": "7746ca27-1af7-4e72-af03-286f5c342dd3"
      },
      "source": [
        "from surprise import Reader, Dataset, SVD, accuracy\n",
        "from surprise.model_selection import cross_validate, KFold\n",
        "\n",
        "reader = Reader()\n",
        "#ratings = pd.read_csv('/content/drive/My Drive/Colab Notebooks/ratings_small.csv')\n",
        "ratings.head()"
      ],
      "execution_count": null,
      "outputs": [
        {
          "output_type": "execute_result",
          "data": {
            "text/html": [
              "<div>\n",
              "<style scoped>\n",
              "    .dataframe tbody tr th:only-of-type {\n",
              "        vertical-align: middle;\n",
              "    }\n",
              "\n",
              "    .dataframe tbody tr th {\n",
              "        vertical-align: top;\n",
              "    }\n",
              "\n",
              "    .dataframe thead th {\n",
              "        text-align: right;\n",
              "    }\n",
              "</style>\n",
              "<table border=\"1\" class=\"dataframe\">\n",
              "  <thead>\n",
              "    <tr style=\"text-align: right;\">\n",
              "      <th></th>\n",
              "      <th>book_id</th>\n",
              "      <th>user_id</th>\n",
              "      <th>rating</th>\n",
              "    </tr>\n",
              "  </thead>\n",
              "  <tbody>\n",
              "    <tr>\n",
              "      <th>0</th>\n",
              "      <td>1</td>\n",
              "      <td>314</td>\n",
              "      <td>5</td>\n",
              "    </tr>\n",
              "    <tr>\n",
              "      <th>1</th>\n",
              "      <td>1</td>\n",
              "      <td>439</td>\n",
              "      <td>3</td>\n",
              "    </tr>\n",
              "    <tr>\n",
              "      <th>2</th>\n",
              "      <td>1</td>\n",
              "      <td>588</td>\n",
              "      <td>5</td>\n",
              "    </tr>\n",
              "    <tr>\n",
              "      <th>3</th>\n",
              "      <td>1</td>\n",
              "      <td>1169</td>\n",
              "      <td>4</td>\n",
              "    </tr>\n",
              "    <tr>\n",
              "      <th>4</th>\n",
              "      <td>1</td>\n",
              "      <td>1185</td>\n",
              "      <td>4</td>\n",
              "    </tr>\n",
              "  </tbody>\n",
              "</table>\n",
              "</div>"
            ],
            "text/plain": [
              "   book_id  user_id  rating\n",
              "0        1      314       5\n",
              "1        1      439       3\n",
              "2        1      588       5\n",
              "3        1     1169       4\n",
              "4        1     1185       4"
            ]
          },
          "metadata": {
            "tags": []
          },
          "execution_count": 61
        }
      ]
    },
    {
      "cell_type": "code",
      "metadata": {
        "id": "yyw56l1BYorD",
        "colab": {
          "base_uri": "https://localhost:8080/",
          "height": 407
        },
        "outputId": "a3860904-093c-453a-df7a-717686c0e1e8"
      },
      "source": [
        "ratings.sort_values(by='rating', ascending=True)"
      ],
      "execution_count": null,
      "outputs": [
        {
          "output_type": "execute_result",
          "data": {
            "text/html": [
              "<div>\n",
              "<style scoped>\n",
              "    .dataframe tbody tr th:only-of-type {\n",
              "        vertical-align: middle;\n",
              "    }\n",
              "\n",
              "    .dataframe tbody tr th {\n",
              "        vertical-align: top;\n",
              "    }\n",
              "\n",
              "    .dataframe thead th {\n",
              "        text-align: right;\n",
              "    }\n",
              "</style>\n",
              "<table border=\"1\" class=\"dataframe\">\n",
              "  <thead>\n",
              "    <tr style=\"text-align: right;\">\n",
              "      <th></th>\n",
              "      <th>book_id</th>\n",
              "      <th>user_id</th>\n",
              "      <th>rating</th>\n",
              "    </tr>\n",
              "  </thead>\n",
              "  <tbody>\n",
              "    <tr>\n",
              "      <th>981755</th>\n",
              "      <td>10000</td>\n",
              "      <td>51328</td>\n",
              "      <td>1</td>\n",
              "    </tr>\n",
              "    <tr>\n",
              "      <th>474980</th>\n",
              "      <td>4760</td>\n",
              "      <td>16656</td>\n",
              "      <td>1</td>\n",
              "    </tr>\n",
              "    <tr>\n",
              "      <th>839095</th>\n",
              "      <td>8480</td>\n",
              "      <td>18509</td>\n",
              "      <td>1</td>\n",
              "    </tr>\n",
              "    <tr>\n",
              "      <th>646940</th>\n",
              "      <td>6500</td>\n",
              "      <td>1411</td>\n",
              "      <td>1</td>\n",
              "    </tr>\n",
              "    <tr>\n",
              "      <th>759162</th>\n",
              "      <td>7648</td>\n",
              "      <td>25977</td>\n",
              "      <td>1</td>\n",
              "    </tr>\n",
              "    <tr>\n",
              "      <th>...</th>\n",
              "      <td>...</td>\n",
              "      <td>...</td>\n",
              "      <td>...</td>\n",
              "    </tr>\n",
              "    <tr>\n",
              "      <th>299822</th>\n",
              "      <td>3001</td>\n",
              "      <td>24341</td>\n",
              "      <td>5</td>\n",
              "    </tr>\n",
              "    <tr>\n",
              "      <th>702851</th>\n",
              "      <td>7072</td>\n",
              "      <td>11819</td>\n",
              "      <td>5</td>\n",
              "    </tr>\n",
              "    <tr>\n",
              "      <th>299828</th>\n",
              "      <td>3001</td>\n",
              "      <td>26547</td>\n",
              "      <td>5</td>\n",
              "    </tr>\n",
              "    <tr>\n",
              "      <th>300094</th>\n",
              "      <td>3004</td>\n",
              "      <td>17568</td>\n",
              "      <td>5</td>\n",
              "    </tr>\n",
              "    <tr>\n",
              "      <th>0</th>\n",
              "      <td>1</td>\n",
              "      <td>314</td>\n",
              "      <td>5</td>\n",
              "    </tr>\n",
              "  </tbody>\n",
              "</table>\n",
              "<p>981756 rows × 3 columns</p>\n",
              "</div>"
            ],
            "text/plain": [
              "        book_id  user_id  rating\n",
              "981755    10000    51328       1\n",
              "474980     4760    16656       1\n",
              "839095     8480    18509       1\n",
              "646940     6500     1411       1\n",
              "759162     7648    25977       1\n",
              "...         ...      ...     ...\n",
              "299822     3001    24341       5\n",
              "702851     7072    11819       5\n",
              "299828     3001    26547       5\n",
              "300094     3004    17568       5\n",
              "0             1      314       5\n",
              "\n",
              "[981756 rows x 3 columns]"
            ]
          },
          "metadata": {
            "tags": []
          },
          "execution_count": 82
        }
      ]
    },
    {
      "cell_type": "markdown",
      "metadata": {
        "id": "Y76JlY18up6S"
      },
      "source": [
        "#Trying to predict the books ratings"
      ]
    },
    {
      "cell_type": "code",
      "metadata": {
        "id": "Nge0W44i2vsK",
        "colab": {
          "base_uri": "https://localhost:8080/",
          "height": 183
        },
        "outputId": "f5f619e8-c278-4a05-989a-281e1a7587a0"
      },
      "source": [
        "#from surprise import SVD\n",
        "#from surprise import Dataset\n",
        "#from surprise import accuracy\n",
        "#from surprise.model_selection import KFold\n",
        "\n",
        "\n",
        "data = Dataset.load_from_df(ratings[['user_id', 'book_id', 'rating']], reader)\n",
        "#data.split(n_folds=5)\n",
        "kf = KFold(n_splits=5)\n",
        "\n",
        "svd = SVD()\n",
        "#evaluate(svd, data, measures=['RMSE', 'MAE'])\n",
        "for trainset, testset in kf.split(data):\n",
        "\n",
        "    # train and test algorithm.\n",
        "    svd.fit(trainset)\n",
        "    predictions = svd.test(testset)\n",
        "\n",
        "    # Compute and print Root Mean Squared Error\n",
        "    accuracy.rmse(predictions, verbose=True)\n",
        "    accuracy.mae(predictions, verbose=True) ######### we could store rmse and mae values in an array\n"
      ],
      "execution_count": null,
      "outputs": [
        {
          "output_type": "stream",
          "text": [
            "RMSE: 0.8442\n",
            "MAE:  0.6597\n",
            "RMSE: 0.8433\n",
            "MAE:  0.6600\n",
            "RMSE: 0.8433\n",
            "MAE:  0.6593\n",
            "RMSE: 0.8421\n",
            "MAE:  0.6591\n",
            "RMSE: 0.8448\n",
            "MAE:  0.6596\n"
          ],
          "name": "stdout"
        }
      ]
    },
    {
      "cell_type": "code",
      "metadata": {
        "id": "nB1HHp6M4dPB",
        "colab": {
          "base_uri": "https://localhost:8080/",
          "height": 407
        },
        "outputId": "672e748a-8e8b-48e6-e92c-5b86a56ff2bd"
      },
      "source": [
        "ratings[ratings['book_id'] == 1506] #check user 1's ratings"
      ],
      "execution_count": null,
      "outputs": [
        {
          "output_type": "execute_result",
          "data": {
            "text/html": [
              "<div>\n",
              "<style scoped>\n",
              "    .dataframe tbody tr th:only-of-type {\n",
              "        vertical-align: middle;\n",
              "    }\n",
              "\n",
              "    .dataframe tbody tr th {\n",
              "        vertical-align: top;\n",
              "    }\n",
              "\n",
              "    .dataframe thead th {\n",
              "        text-align: right;\n",
              "    }\n",
              "</style>\n",
              "<table border=\"1\" class=\"dataframe\">\n",
              "  <thead>\n",
              "    <tr style=\"text-align: right;\">\n",
              "      <th></th>\n",
              "      <th>book_id</th>\n",
              "      <th>user_id</th>\n",
              "      <th>rating</th>\n",
              "    </tr>\n",
              "  </thead>\n",
              "  <tbody>\n",
              "    <tr>\n",
              "      <th>150478</th>\n",
              "      <td>1506</td>\n",
              "      <td>10</td>\n",
              "      <td>4</td>\n",
              "    </tr>\n",
              "    <tr>\n",
              "      <th>150479</th>\n",
              "      <td>1506</td>\n",
              "      <td>726</td>\n",
              "      <td>5</td>\n",
              "    </tr>\n",
              "    <tr>\n",
              "      <th>150480</th>\n",
              "      <td>1506</td>\n",
              "      <td>1063</td>\n",
              "      <td>5</td>\n",
              "    </tr>\n",
              "    <tr>\n",
              "      <th>150481</th>\n",
              "      <td>1506</td>\n",
              "      <td>1741</td>\n",
              "      <td>3</td>\n",
              "    </tr>\n",
              "    <tr>\n",
              "      <th>150482</th>\n",
              "      <td>1506</td>\n",
              "      <td>3243</td>\n",
              "      <td>4</td>\n",
              "    </tr>\n",
              "    <tr>\n",
              "      <th>...</th>\n",
              "      <td>...</td>\n",
              "      <td>...</td>\n",
              "      <td>...</td>\n",
              "    </tr>\n",
              "    <tr>\n",
              "      <th>150573</th>\n",
              "      <td>1506</td>\n",
              "      <td>50909</td>\n",
              "      <td>3</td>\n",
              "    </tr>\n",
              "    <tr>\n",
              "      <th>150574</th>\n",
              "      <td>1506</td>\n",
              "      <td>51115</td>\n",
              "      <td>5</td>\n",
              "    </tr>\n",
              "    <tr>\n",
              "      <th>150575</th>\n",
              "      <td>1506</td>\n",
              "      <td>51403</td>\n",
              "      <td>4</td>\n",
              "    </tr>\n",
              "    <tr>\n",
              "      <th>150576</th>\n",
              "      <td>1506</td>\n",
              "      <td>51547</td>\n",
              "      <td>3</td>\n",
              "    </tr>\n",
              "    <tr>\n",
              "      <th>150577</th>\n",
              "      <td>1506</td>\n",
              "      <td>51838</td>\n",
              "      <td>4</td>\n",
              "    </tr>\n",
              "  </tbody>\n",
              "</table>\n",
              "<p>100 rows × 3 columns</p>\n",
              "</div>"
            ],
            "text/plain": [
              "        book_id  user_id  rating\n",
              "150478     1506       10       4\n",
              "150479     1506      726       5\n",
              "150480     1506     1063       5\n",
              "150481     1506     1741       3\n",
              "150482     1506     3243       4\n",
              "...         ...      ...     ...\n",
              "150573     1506    50909       3\n",
              "150574     1506    51115       5\n",
              "150575     1506    51403       4\n",
              "150576     1506    51547       3\n",
              "150577     1506    51838       4\n",
              "\n",
              "[100 rows x 3 columns]"
            ]
          },
          "metadata": {
            "tags": []
          },
          "execution_count": 63
        }
      ]
    },
    {
      "cell_type": "code",
      "metadata": {
        "id": "pgjTGhMkX-xx",
        "colab": {
          "base_uri": "https://localhost:8080/",
          "height": 527
        },
        "outputId": "d28fdf02-4632-4d2d-b20c-ca6bfdf94ff3"
      },
      "source": [
        "ratings[ratings['user_id'] == 10].group #check user 1's ratings"
      ],
      "execution_count": null,
      "outputs": [
        {
          "output_type": "execute_result",
          "data": {
            "text/html": [
              "<div>\n",
              "<style scoped>\n",
              "    .dataframe tbody tr th:only-of-type {\n",
              "        vertical-align: middle;\n",
              "    }\n",
              "\n",
              "    .dataframe tbody tr th {\n",
              "        vertical-align: top;\n",
              "    }\n",
              "\n",
              "    .dataframe thead th {\n",
              "        text-align: right;\n",
              "    }\n",
              "</style>\n",
              "<table border=\"1\" class=\"dataframe\">\n",
              "  <thead>\n",
              "    <tr style=\"text-align: right;\">\n",
              "      <th></th>\n",
              "      <th>book_id</th>\n",
              "      <th>user_id</th>\n",
              "      <th>rating</th>\n",
              "    </tr>\n",
              "  </thead>\n",
              "  <tbody>\n",
              "    <tr>\n",
              "      <th>150478</th>\n",
              "      <td>1506</td>\n",
              "      <td>10</td>\n",
              "      <td>4</td>\n",
              "    </tr>\n",
              "    <tr>\n",
              "      <th>282986</th>\n",
              "      <td>2833</td>\n",
              "      <td>10</td>\n",
              "      <td>4</td>\n",
              "    </tr>\n",
              "    <tr>\n",
              "      <th>340448</th>\n",
              "      <td>3409</td>\n",
              "      <td>10</td>\n",
              "      <td>5</td>\n",
              "    </tr>\n",
              "    <tr>\n",
              "      <th>393966</th>\n",
              "      <td>3946</td>\n",
              "      <td>10</td>\n",
              "      <td>5</td>\n",
              "    </tr>\n",
              "    <tr>\n",
              "      <th>452158</th>\n",
              "      <td>4531</td>\n",
              "      <td>10</td>\n",
              "      <td>4</td>\n",
              "    </tr>\n",
              "    <tr>\n",
              "      <th>506878</th>\n",
              "      <td>5084</td>\n",
              "      <td>10</td>\n",
              "      <td>2</td>\n",
              "    </tr>\n",
              "    <tr>\n",
              "      <th>588312</th>\n",
              "      <td>5907</td>\n",
              "      <td>10</td>\n",
              "      <td>4</td>\n",
              "    </tr>\n",
              "    <tr>\n",
              "      <th>590191</th>\n",
              "      <td>5926</td>\n",
              "      <td>10</td>\n",
              "      <td>2</td>\n",
              "    </tr>\n",
              "    <tr>\n",
              "      <th>610487</th>\n",
              "      <td>6131</td>\n",
              "      <td>10</td>\n",
              "      <td>2</td>\n",
              "    </tr>\n",
              "    <tr>\n",
              "      <th>696035</th>\n",
              "      <td>7002</td>\n",
              "      <td>10</td>\n",
              "      <td>5</td>\n",
              "    </tr>\n",
              "    <tr>\n",
              "      <th>743400</th>\n",
              "      <td>7486</td>\n",
              "      <td>10</td>\n",
              "      <td>4</td>\n",
              "    </tr>\n",
              "    <tr>\n",
              "      <th>759424</th>\n",
              "      <td>7651</td>\n",
              "      <td>10</td>\n",
              "      <td>4</td>\n",
              "    </tr>\n",
              "    <tr>\n",
              "      <th>855593</th>\n",
              "      <td>8653</td>\n",
              "      <td>10</td>\n",
              "      <td>4</td>\n",
              "    </tr>\n",
              "    <tr>\n",
              "      <th>911432</th>\n",
              "      <td>9240</td>\n",
              "      <td>10</td>\n",
              "      <td>3</td>\n",
              "    </tr>\n",
              "    <tr>\n",
              "      <th>944600</th>\n",
              "      <td>9600</td>\n",
              "      <td>10</td>\n",
              "      <td>4</td>\n",
              "    </tr>\n",
              "    <tr>\n",
              "      <th>968243</th>\n",
              "      <td>9854</td>\n",
              "      <td>10</td>\n",
              "      <td>4</td>\n",
              "    </tr>\n",
              "  </tbody>\n",
              "</table>\n",
              "</div>"
            ],
            "text/plain": [
              "        book_id  user_id  rating\n",
              "150478     1506       10       4\n",
              "282986     2833       10       4\n",
              "340448     3409       10       5\n",
              "393966     3946       10       5\n",
              "452158     4531       10       4\n",
              "506878     5084       10       2\n",
              "588312     5907       10       4\n",
              "590191     5926       10       2\n",
              "610487     6131       10       2\n",
              "696035     7002       10       5\n",
              "743400     7486       10       4\n",
              "759424     7651       10       4\n",
              "855593     8653       10       4\n",
              "911432     9240       10       3\n",
              "944600     9600       10       4\n",
              "968243     9854       10       4"
            ]
          },
          "metadata": {
            "tags": []
          },
          "execution_count": 81
        }
      ]
    },
    {
      "cell_type": "code",
      "metadata": {
        "id": "gY9nrvEv5XyO",
        "colab": {
          "base_uri": "https://localhost:8080/",
          "height": 33
        },
        "outputId": "547dc9f6-7540-44c9-95f4-71bab97dbeab"
      },
      "source": [
        "svd.predict(45, 1506, 3)\n",
        "## I don't know what the third input argment stands for"
      ],
      "execution_count": null,
      "outputs": [
        {
          "output_type": "execute_result",
          "data": {
            "text/plain": [
              "Prediction(uid=45, iid=1506, r_ui=3, est=3.3528225432593337, details={'was_impossible': False})"
            ]
          },
          "metadata": {
            "tags": []
          },
          "execution_count": 64
        }
      ]
    },
    {
      "cell_type": "code",
      "metadata": {
        "id": "-cQu4VvJP5GP"
      },
      "source": [
        "pred_list= list(range(1000,2000,100))"
      ],
      "execution_count": null,
      "outputs": []
    },
    {
      "cell_type": "code",
      "metadata": {
        "id": "uAbgOHlrQMvF",
        "colab": {
          "base_uri": "https://localhost:8080/",
          "height": 33
        },
        "outputId": "52f1b3a6-4cd5-45db-bb68-7c4add0864cc"
      },
      "source": [
        "list(range(1000,2000,100))"
      ],
      "execution_count": null,
      "outputs": [
        {
          "output_type": "execute_result",
          "data": {
            "text/plain": [
              "[1000, 1100, 1200, 1300, 1400, 1500, 1600, 1700, 1800, 1900]"
            ]
          },
          "metadata": {
            "tags": []
          },
          "execution_count": 66
        }
      ]
    },
    {
      "cell_type": "code",
      "metadata": {
        "id": "brSn1OtY5X09",
        "colab": {
          "base_uri": "https://localhost:8080/",
          "height": 183
        },
        "outputId": "672db310-ef3d-4dd5-f611-a8fc30bfc1bb"
      },
      "source": [
        "for pred in (pred_list):\n",
        "  print(svd.predict(45, pred, 3))"
      ],
      "execution_count": null,
      "outputs": [
        {
          "output_type": "stream",
          "text": [
            "user: 45         item: 1000       r_ui = 3.00   est = 3.94   {'was_impossible': False}\n",
            "user: 45         item: 1100       r_ui = 3.00   est = 4.15   {'was_impossible': False}\n",
            "user: 45         item: 1200       r_ui = 3.00   est = 4.09   {'was_impossible': False}\n",
            "user: 45         item: 1300       r_ui = 3.00   est = 4.06   {'was_impossible': False}\n",
            "user: 45         item: 1400       r_ui = 3.00   est = 3.82   {'was_impossible': False}\n",
            "user: 45         item: 1500       r_ui = 3.00   est = 3.81   {'was_impossible': False}\n",
            "user: 45         item: 1600       r_ui = 3.00   est = 4.07   {'was_impossible': False}\n",
            "user: 45         item: 1700       r_ui = 3.00   est = 4.04   {'was_impossible': False}\n",
            "user: 45         item: 1800       r_ui = 3.00   est = 3.96   {'was_impossible': False}\n",
            "user: 45         item: 1900       r_ui = 3.00   est = 3.58   {'was_impossible': False}\n"
          ],
          "name": "stdout"
        }
      ]
    },
    {
      "cell_type": "code",
      "metadata": {
        "id": "x-vTl7qv5X5e"
      },
      "source": [
        "a=[]\n",
        "for pred in (pred_list):\n",
        "  a.append(svd.predict(45, pred, 3))"
      ],
      "execution_count": null,
      "outputs": []
    },
    {
      "cell_type": "code",
      "metadata": {
        "id": "EeY_LOKU5X_N",
        "colab": {
          "base_uri": "https://localhost:8080/",
          "height": 33
        },
        "outputId": "d79e4c61-44b3-431f-90ff-00320b590095"
      },
      "source": [
        "a[0][0]"
      ],
      "execution_count": null,
      "outputs": [
        {
          "output_type": "execute_result",
          "data": {
            "text/plain": [
              "45"
            ]
          },
          "metadata": {
            "tags": []
          },
          "execution_count": 77
        }
      ]
    },
    {
      "cell_type": "code",
      "metadata": {
        "id": "ei2YI8Ov5X8n"
      },
      "source": [
        ""
      ],
      "execution_count": null,
      "outputs": []
    }
  ]
}